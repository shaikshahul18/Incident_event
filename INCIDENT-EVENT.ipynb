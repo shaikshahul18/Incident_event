{
 "cells": [
  {
   "cell_type": "markdown",
   "metadata": {},
   "source": [
    "## ABSTRACT: ##\n",
    "\n",
    "## This event log was extracted from data gathered from the audit system of an instance of the ServiceNow platform used by an IT company and enriched with data loaded from a relational database ###"
   ]
  },
  {
   "cell_type": "markdown",
   "metadata": {},
   "source": [
    "## Importing Libraries"
   ]
  },
  {
   "cell_type": "code",
   "execution_count": 113,
   "metadata": {},
   "outputs": [],
   "source": [
    "import numpy as np\n",
    "import pandas as pd\n",
    "import matplotlib.pyplot as plt\n",
    "import seaborn as sns\n",
    "import datetime\n",
    "import math\n",
    "pd.options.display.max_columns = None\n",
    "pd.options.display.max_rows = None\n",
    "import warnings\n",
    "warnings.filterwarnings('ignore')"
   ]
  },
  {
   "cell_type": "code",
   "execution_count": 2,
   "metadata": {},
   "outputs": [
    {
     "data": {
      "text/html": [
       "<div>\n",
       "<style scoped>\n",
       "    .dataframe tbody tr th:only-of-type {\n",
       "        vertical-align: middle;\n",
       "    }\n",
       "\n",
       "    .dataframe tbody tr th {\n",
       "        vertical-align: top;\n",
       "    }\n",
       "\n",
       "    .dataframe thead th {\n",
       "        text-align: right;\n",
       "    }\n",
       "</style>\n",
       "<table border=\"1\" class=\"dataframe\">\n",
       "  <thead>\n",
       "    <tr style=\"text-align: right;\">\n",
       "      <th></th>\n",
       "      <th>number</th>\n",
       "      <th>incident_state</th>\n",
       "      <th>active</th>\n",
       "      <th>reassignment_count</th>\n",
       "      <th>reopen_count</th>\n",
       "      <th>sys_mod_count</th>\n",
       "      <th>made_sla</th>\n",
       "      <th>caller_id</th>\n",
       "      <th>opened_by</th>\n",
       "      <th>opened_at</th>\n",
       "      <th>sys_created_by</th>\n",
       "      <th>sys_created_at</th>\n",
       "      <th>sys_updated_by</th>\n",
       "      <th>sys_updated_at</th>\n",
       "      <th>contact_type</th>\n",
       "      <th>location</th>\n",
       "      <th>category</th>\n",
       "      <th>subcategory</th>\n",
       "      <th>u_symptom</th>\n",
       "      <th>cmdb_ci</th>\n",
       "      <th>impact</th>\n",
       "      <th>urgency</th>\n",
       "      <th>priority</th>\n",
       "      <th>assignment_group</th>\n",
       "      <th>assigned_to</th>\n",
       "      <th>knowledge</th>\n",
       "      <th>u_priority_confirmation</th>\n",
       "      <th>notify</th>\n",
       "      <th>problem_id</th>\n",
       "      <th>rfc</th>\n",
       "      <th>vendor</th>\n",
       "      <th>caused_by</th>\n",
       "      <th>closed_code</th>\n",
       "      <th>resolved_by</th>\n",
       "      <th>resolved_at</th>\n",
       "      <th>closed_at</th>\n",
       "    </tr>\n",
       "  </thead>\n",
       "  <tbody>\n",
       "    <tr>\n",
       "      <th>0</th>\n",
       "      <td>INC0000045</td>\n",
       "      <td>New</td>\n",
       "      <td>True</td>\n",
       "      <td>0</td>\n",
       "      <td>0</td>\n",
       "      <td>0</td>\n",
       "      <td>True</td>\n",
       "      <td>Caller 2403</td>\n",
       "      <td>Opened by  8</td>\n",
       "      <td>29/2/2016 01:16</td>\n",
       "      <td>Created by 6</td>\n",
       "      <td>29/2/2016 01:23</td>\n",
       "      <td>Updated by 21</td>\n",
       "      <td>29/2/2016 01:23</td>\n",
       "      <td>Phone</td>\n",
       "      <td>Location 143</td>\n",
       "      <td>Category 55</td>\n",
       "      <td>Subcategory 170</td>\n",
       "      <td>Symptom 72</td>\n",
       "      <td>?</td>\n",
       "      <td>2 - Medium</td>\n",
       "      <td>2 - Medium</td>\n",
       "      <td>3 - Moderate</td>\n",
       "      <td>Group 56</td>\n",
       "      <td>?</td>\n",
       "      <td>True</td>\n",
       "      <td>False</td>\n",
       "      <td>Do Not Notify</td>\n",
       "      <td>?</td>\n",
       "      <td>?</td>\n",
       "      <td>?</td>\n",
       "      <td>?</td>\n",
       "      <td>code 5</td>\n",
       "      <td>Resolved by 149</td>\n",
       "      <td>29/2/2016 11:29</td>\n",
       "      <td>5/3/2016 12:00</td>\n",
       "    </tr>\n",
       "    <tr>\n",
       "      <th>1</th>\n",
       "      <td>INC0000045</td>\n",
       "      <td>Resolved</td>\n",
       "      <td>True</td>\n",
       "      <td>0</td>\n",
       "      <td>0</td>\n",
       "      <td>2</td>\n",
       "      <td>True</td>\n",
       "      <td>Caller 2403</td>\n",
       "      <td>Opened by  8</td>\n",
       "      <td>29/2/2016 01:16</td>\n",
       "      <td>Created by 6</td>\n",
       "      <td>29/2/2016 01:23</td>\n",
       "      <td>Updated by 642</td>\n",
       "      <td>29/2/2016 08:53</td>\n",
       "      <td>Phone</td>\n",
       "      <td>Location 143</td>\n",
       "      <td>Category 55</td>\n",
       "      <td>Subcategory 170</td>\n",
       "      <td>Symptom 72</td>\n",
       "      <td>?</td>\n",
       "      <td>2 - Medium</td>\n",
       "      <td>2 - Medium</td>\n",
       "      <td>3 - Moderate</td>\n",
       "      <td>Group 56</td>\n",
       "      <td>?</td>\n",
       "      <td>True</td>\n",
       "      <td>False</td>\n",
       "      <td>Do Not Notify</td>\n",
       "      <td>?</td>\n",
       "      <td>?</td>\n",
       "      <td>?</td>\n",
       "      <td>?</td>\n",
       "      <td>code 5</td>\n",
       "      <td>Resolved by 149</td>\n",
       "      <td>29/2/2016 11:29</td>\n",
       "      <td>5/3/2016 12:00</td>\n",
       "    </tr>\n",
       "    <tr>\n",
       "      <th>2</th>\n",
       "      <td>INC0000045</td>\n",
       "      <td>Resolved</td>\n",
       "      <td>True</td>\n",
       "      <td>0</td>\n",
       "      <td>0</td>\n",
       "      <td>3</td>\n",
       "      <td>True</td>\n",
       "      <td>Caller 2403</td>\n",
       "      <td>Opened by  8</td>\n",
       "      <td>29/2/2016 01:16</td>\n",
       "      <td>Created by 6</td>\n",
       "      <td>29/2/2016 01:23</td>\n",
       "      <td>Updated by 804</td>\n",
       "      <td>29/2/2016 11:29</td>\n",
       "      <td>Phone</td>\n",
       "      <td>Location 143</td>\n",
       "      <td>Category 55</td>\n",
       "      <td>Subcategory 170</td>\n",
       "      <td>Symptom 72</td>\n",
       "      <td>?</td>\n",
       "      <td>2 - Medium</td>\n",
       "      <td>2 - Medium</td>\n",
       "      <td>3 - Moderate</td>\n",
       "      <td>Group 56</td>\n",
       "      <td>?</td>\n",
       "      <td>True</td>\n",
       "      <td>False</td>\n",
       "      <td>Do Not Notify</td>\n",
       "      <td>?</td>\n",
       "      <td>?</td>\n",
       "      <td>?</td>\n",
       "      <td>?</td>\n",
       "      <td>code 5</td>\n",
       "      <td>Resolved by 149</td>\n",
       "      <td>29/2/2016 11:29</td>\n",
       "      <td>5/3/2016 12:00</td>\n",
       "    </tr>\n",
       "    <tr>\n",
       "      <th>3</th>\n",
       "      <td>INC0000045</td>\n",
       "      <td>Closed</td>\n",
       "      <td>False</td>\n",
       "      <td>0</td>\n",
       "      <td>0</td>\n",
       "      <td>4</td>\n",
       "      <td>True</td>\n",
       "      <td>Caller 2403</td>\n",
       "      <td>Opened by  8</td>\n",
       "      <td>29/2/2016 01:16</td>\n",
       "      <td>Created by 6</td>\n",
       "      <td>29/2/2016 01:23</td>\n",
       "      <td>Updated by 908</td>\n",
       "      <td>5/3/2016 12:00</td>\n",
       "      <td>Phone</td>\n",
       "      <td>Location 143</td>\n",
       "      <td>Category 55</td>\n",
       "      <td>Subcategory 170</td>\n",
       "      <td>Symptom 72</td>\n",
       "      <td>?</td>\n",
       "      <td>2 - Medium</td>\n",
       "      <td>2 - Medium</td>\n",
       "      <td>3 - Moderate</td>\n",
       "      <td>Group 56</td>\n",
       "      <td>?</td>\n",
       "      <td>True</td>\n",
       "      <td>False</td>\n",
       "      <td>Do Not Notify</td>\n",
       "      <td>?</td>\n",
       "      <td>?</td>\n",
       "      <td>?</td>\n",
       "      <td>?</td>\n",
       "      <td>code 5</td>\n",
       "      <td>Resolved by 149</td>\n",
       "      <td>29/2/2016 11:29</td>\n",
       "      <td>5/3/2016 12:00</td>\n",
       "    </tr>\n",
       "    <tr>\n",
       "      <th>4</th>\n",
       "      <td>INC0000047</td>\n",
       "      <td>New</td>\n",
       "      <td>True</td>\n",
       "      <td>0</td>\n",
       "      <td>0</td>\n",
       "      <td>0</td>\n",
       "      <td>True</td>\n",
       "      <td>Caller 2403</td>\n",
       "      <td>Opened by  397</td>\n",
       "      <td>29/2/2016 04:40</td>\n",
       "      <td>Created by 171</td>\n",
       "      <td>29/2/2016 04:57</td>\n",
       "      <td>Updated by 746</td>\n",
       "      <td>29/2/2016 04:57</td>\n",
       "      <td>Phone</td>\n",
       "      <td>Location 165</td>\n",
       "      <td>Category 40</td>\n",
       "      <td>Subcategory 215</td>\n",
       "      <td>Symptom 471</td>\n",
       "      <td>?</td>\n",
       "      <td>2 - Medium</td>\n",
       "      <td>2 - Medium</td>\n",
       "      <td>3 - Moderate</td>\n",
       "      <td>Group 70</td>\n",
       "      <td>Resolver 89</td>\n",
       "      <td>True</td>\n",
       "      <td>False</td>\n",
       "      <td>Do Not Notify</td>\n",
       "      <td>?</td>\n",
       "      <td>?</td>\n",
       "      <td>?</td>\n",
       "      <td>?</td>\n",
       "      <td>code 5</td>\n",
       "      <td>Resolved by 81</td>\n",
       "      <td>1/3/2016 09:52</td>\n",
       "      <td>6/3/2016 10:00</td>\n",
       "    </tr>\n",
       "  </tbody>\n",
       "</table>\n",
       "</div>"
      ],
      "text/plain": [
       "       number incident_state  active  reassignment_count  reopen_count  \\\n",
       "0  INC0000045            New    True                   0             0   \n",
       "1  INC0000045       Resolved    True                   0             0   \n",
       "2  INC0000045       Resolved    True                   0             0   \n",
       "3  INC0000045         Closed   False                   0             0   \n",
       "4  INC0000047            New    True                   0             0   \n",
       "\n",
       "   sys_mod_count  made_sla    caller_id       opened_by        opened_at  \\\n",
       "0              0      True  Caller 2403    Opened by  8  29/2/2016 01:16   \n",
       "1              2      True  Caller 2403    Opened by  8  29/2/2016 01:16   \n",
       "2              3      True  Caller 2403    Opened by  8  29/2/2016 01:16   \n",
       "3              4      True  Caller 2403    Opened by  8  29/2/2016 01:16   \n",
       "4              0      True  Caller 2403  Opened by  397  29/2/2016 04:40   \n",
       "\n",
       "   sys_created_by   sys_created_at  sys_updated_by   sys_updated_at  \\\n",
       "0    Created by 6  29/2/2016 01:23   Updated by 21  29/2/2016 01:23   \n",
       "1    Created by 6  29/2/2016 01:23  Updated by 642  29/2/2016 08:53   \n",
       "2    Created by 6  29/2/2016 01:23  Updated by 804  29/2/2016 11:29   \n",
       "3    Created by 6  29/2/2016 01:23  Updated by 908   5/3/2016 12:00   \n",
       "4  Created by 171  29/2/2016 04:57  Updated by 746  29/2/2016 04:57   \n",
       "\n",
       "  contact_type      location     category      subcategory    u_symptom  \\\n",
       "0        Phone  Location 143  Category 55  Subcategory 170   Symptom 72   \n",
       "1        Phone  Location 143  Category 55  Subcategory 170   Symptom 72   \n",
       "2        Phone  Location 143  Category 55  Subcategory 170   Symptom 72   \n",
       "3        Phone  Location 143  Category 55  Subcategory 170   Symptom 72   \n",
       "4        Phone  Location 165  Category 40  Subcategory 215  Symptom 471   \n",
       "\n",
       "  cmdb_ci      impact     urgency      priority assignment_group  assigned_to  \\\n",
       "0       ?  2 - Medium  2 - Medium  3 - Moderate         Group 56            ?   \n",
       "1       ?  2 - Medium  2 - Medium  3 - Moderate         Group 56            ?   \n",
       "2       ?  2 - Medium  2 - Medium  3 - Moderate         Group 56            ?   \n",
       "3       ?  2 - Medium  2 - Medium  3 - Moderate         Group 56            ?   \n",
       "4       ?  2 - Medium  2 - Medium  3 - Moderate         Group 70  Resolver 89   \n",
       "\n",
       "   knowledge  u_priority_confirmation         notify problem_id rfc vendor  \\\n",
       "0       True                    False  Do Not Notify          ?   ?      ?   \n",
       "1       True                    False  Do Not Notify          ?   ?      ?   \n",
       "2       True                    False  Do Not Notify          ?   ?      ?   \n",
       "3       True                    False  Do Not Notify          ?   ?      ?   \n",
       "4       True                    False  Do Not Notify          ?   ?      ?   \n",
       "\n",
       "  caused_by closed_code      resolved_by      resolved_at       closed_at  \n",
       "0         ?      code 5  Resolved by 149  29/2/2016 11:29  5/3/2016 12:00  \n",
       "1         ?      code 5  Resolved by 149  29/2/2016 11:29  5/3/2016 12:00  \n",
       "2         ?      code 5  Resolved by 149  29/2/2016 11:29  5/3/2016 12:00  \n",
       "3         ?      code 5  Resolved by 149  29/2/2016 11:29  5/3/2016 12:00  \n",
       "4         ?      code 5   Resolved by 81   1/3/2016 09:52  6/3/2016 10:00  "
      ]
     },
     "execution_count": 2,
     "metadata": {},
     "output_type": "execute_result"
    }
   ],
   "source": [
    "data = pd.read_csv(\"incident_event_log.csv\")\n",
    "data.head()"
   ]
  },
  {
   "cell_type": "markdown",
   "metadata": {},
   "source": [
    "* **We are replacing all the ? present in the data with np.nan, as the ? represent NULL values**"
   ]
  },
  {
   "cell_type": "code",
   "execution_count": 3,
   "metadata": {},
   "outputs": [],
   "source": [
    "data.replace({'?':np.nan},inplace = True)"
   ]
  },
  {
   "cell_type": "code",
   "execution_count": 4,
   "metadata": {},
   "outputs": [
    {
     "data": {
      "text/plain": [
       "caused_by                  141689\n",
       "vendor                     141468\n",
       "cmdb_ci                    141267\n",
       "rfc                        140721\n",
       "problem_id                 139417\n",
       "sys_created_at              53076\n",
       "sys_created_by              53076\n",
       "u_symptom                   32964\n",
       "assigned_to                 27496\n",
       "assignment_group            14213\n",
       "opened_by                    4835\n",
       "resolved_at                  3141\n",
       "closed_code                   714\n",
       "resolved_by                   226\n",
       "subcategory                   111\n",
       "category                       78\n",
       "location                       76\n",
       "caller_id                      29\n",
       "reassignment_count              0\n",
       "active                          0\n",
       "incident_state                  0\n",
       "reopen_count                    0\n",
       "sys_mod_count                   0\n",
       "made_sla                        0\n",
       "opened_at                       0\n",
       "closed_at                       0\n",
       "sys_updated_by                  0\n",
       "sys_updated_at                  0\n",
       "contact_type                    0\n",
       "impact                          0\n",
       "urgency                         0\n",
       "priority                        0\n",
       "knowledge                       0\n",
       "u_priority_confirmation         0\n",
       "notify                          0\n",
       "number                          0\n",
       "dtype: int64"
      ]
     },
     "execution_count": 4,
     "metadata": {},
     "output_type": "execute_result"
    }
   ],
   "source": [
    "data.isnull().sum().sort_values(ascending = False)"
   ]
  },
  {
   "cell_type": "markdown",
   "metadata": {},
   "source": [
    "## Attributes information:"
   ]
  },
  {
   "cell_type": "markdown",
   "metadata": {},
   "source": [
    "* We have 29 featues which are of Object data type which will be converted into categorical features during the modelling process\n",
    "* We have 3 integer data type features\n",
    "* We have 4 boolean data type features"
   ]
  },
  {
   "cell_type": "code",
   "execution_count": 5,
   "metadata": {},
   "outputs": [
    {
     "name": "stdout",
     "output_type": "stream",
     "text": [
      "<class 'pandas.core.frame.DataFrame'>\n",
      "RangeIndex: 141712 entries, 0 to 141711\n",
      "Data columns (total 36 columns):\n",
      " #   Column                   Non-Null Count   Dtype \n",
      "---  ------                   --------------   ----- \n",
      " 0   number                   141712 non-null  object\n",
      " 1   incident_state           141712 non-null  object\n",
      " 2   active                   141712 non-null  bool  \n",
      " 3   reassignment_count       141712 non-null  int64 \n",
      " 4   reopen_count             141712 non-null  int64 \n",
      " 5   sys_mod_count            141712 non-null  int64 \n",
      " 6   made_sla                 141712 non-null  bool  \n",
      " 7   caller_id                141683 non-null  object\n",
      " 8   opened_by                136877 non-null  object\n",
      " 9   opened_at                141712 non-null  object\n",
      " 10  sys_created_by           88636 non-null   object\n",
      " 11  sys_created_at           88636 non-null   object\n",
      " 12  sys_updated_by           141712 non-null  object\n",
      " 13  sys_updated_at           141712 non-null  object\n",
      " 14  contact_type             141712 non-null  object\n",
      " 15  location                 141636 non-null  object\n",
      " 16  category                 141634 non-null  object\n",
      " 17  subcategory              141601 non-null  object\n",
      " 18  u_symptom                108748 non-null  object\n",
      " 19  cmdb_ci                  445 non-null     object\n",
      " 20  impact                   141712 non-null  object\n",
      " 21  urgency                  141712 non-null  object\n",
      " 22  priority                 141712 non-null  object\n",
      " 23  assignment_group         127499 non-null  object\n",
      " 24  assigned_to              114216 non-null  object\n",
      " 25  knowledge                141712 non-null  bool  \n",
      " 26  u_priority_confirmation  141712 non-null  bool  \n",
      " 27  notify                   141712 non-null  object\n",
      " 28  problem_id               2295 non-null    object\n",
      " 29  rfc                      991 non-null     object\n",
      " 30  vendor                   244 non-null     object\n",
      " 31  caused_by                23 non-null      object\n",
      " 32  closed_code              140998 non-null  object\n",
      " 33  resolved_by              141486 non-null  object\n",
      " 34  resolved_at              138571 non-null  object\n",
      " 35  closed_at                141712 non-null  object\n",
      "dtypes: bool(4), int64(3), object(29)\n",
      "memory usage: 35.1+ MB\n"
     ]
    }
   ],
   "source": [
    "data.info()"
   ]
  },
  {
   "cell_type": "code",
   "execution_count": 6,
   "metadata": {},
   "outputs": [
    {
     "data": {
      "text/html": [
       "<div>\n",
       "<style scoped>\n",
       "    .dataframe tbody tr th:only-of-type {\n",
       "        vertical-align: middle;\n",
       "    }\n",
       "\n",
       "    .dataframe tbody tr th {\n",
       "        vertical-align: top;\n",
       "    }\n",
       "\n",
       "    .dataframe thead th {\n",
       "        text-align: right;\n",
       "    }\n",
       "</style>\n",
       "<table border=\"1\" class=\"dataframe\">\n",
       "  <thead>\n",
       "    <tr style=\"text-align: right;\">\n",
       "      <th></th>\n",
       "      <th>reassignment_count</th>\n",
       "      <th>reopen_count</th>\n",
       "      <th>sys_mod_count</th>\n",
       "    </tr>\n",
       "  </thead>\n",
       "  <tbody>\n",
       "    <tr>\n",
       "      <th>count</th>\n",
       "      <td>141712.000000</td>\n",
       "      <td>141712.000000</td>\n",
       "      <td>141712.000000</td>\n",
       "    </tr>\n",
       "    <tr>\n",
       "      <th>mean</th>\n",
       "      <td>1.104197</td>\n",
       "      <td>0.021918</td>\n",
       "      <td>5.080946</td>\n",
       "    </tr>\n",
       "    <tr>\n",
       "      <th>std</th>\n",
       "      <td>1.734673</td>\n",
       "      <td>0.207302</td>\n",
       "      <td>7.680652</td>\n",
       "    </tr>\n",
       "    <tr>\n",
       "      <th>min</th>\n",
       "      <td>0.000000</td>\n",
       "      <td>0.000000</td>\n",
       "      <td>0.000000</td>\n",
       "    </tr>\n",
       "    <tr>\n",
       "      <th>25%</th>\n",
       "      <td>0.000000</td>\n",
       "      <td>0.000000</td>\n",
       "      <td>1.000000</td>\n",
       "    </tr>\n",
       "    <tr>\n",
       "      <th>50%</th>\n",
       "      <td>1.000000</td>\n",
       "      <td>0.000000</td>\n",
       "      <td>3.000000</td>\n",
       "    </tr>\n",
       "    <tr>\n",
       "      <th>75%</th>\n",
       "      <td>1.000000</td>\n",
       "      <td>0.000000</td>\n",
       "      <td>6.000000</td>\n",
       "    </tr>\n",
       "    <tr>\n",
       "      <th>max</th>\n",
       "      <td>27.000000</td>\n",
       "      <td>8.000000</td>\n",
       "      <td>129.000000</td>\n",
       "    </tr>\n",
       "  </tbody>\n",
       "</table>\n",
       "</div>"
      ],
      "text/plain": [
       "       reassignment_count   reopen_count  sys_mod_count\n",
       "count       141712.000000  141712.000000  141712.000000\n",
       "mean             1.104197       0.021918       5.080946\n",
       "std              1.734673       0.207302       7.680652\n",
       "min              0.000000       0.000000       0.000000\n",
       "25%              0.000000       0.000000       1.000000\n",
       "50%              1.000000       0.000000       3.000000\n",
       "75%              1.000000       0.000000       6.000000\n",
       "max             27.000000       8.000000     129.000000"
      ]
     },
     "execution_count": 6,
     "metadata": {},
     "output_type": "execute_result"
    }
   ],
   "source": [
    "data.describe()"
   ]
  },
  {
   "cell_type": "code",
   "execution_count": 7,
   "metadata": {},
   "outputs": [
    {
     "data": {
      "text/plain": [
       "(141712, 36)"
      ]
     },
     "execution_count": 7,
     "metadata": {},
     "output_type": "execute_result"
    }
   ],
   "source": [
    "data.shape"
   ]
  },
  {
   "cell_type": "markdown",
   "metadata": {},
   "source": [
    "## Problem Statement"
   ]
  },
  {
   "cell_type": "markdown",
   "metadata": {},
   "source": [
    "* Our data set consists of 1.4L data points with 34 features + 2 features(dependent variables)**\n",
    "* The features which we are considering as dependent variables are(according to the source) :**\n",
    "    * **Resolved_at**\n",
    "    * **closed_at**\n",
    "* With respect to the dependent variables , we can consider doing of machine learning problems, such as regression classification and cluster analysis. \n",
    "    * **How Regression?**\n",
    "        * We will consider the time difference between the sys_created_at and resolved_at features, in this case we can understand how much time will the new raised ticket will take to resolve.\n",
    "    * **How Classification?**\n",
    "        * We can consider the closed_code as our dependent variable , and predict the closed code for the ticket raised.\n",
    "    * **How Cluster Analysis?**\n",
    "        * We can understand which tickets can be considered as a similar cluster and work on why those tickets were considered as similar that would be helpful in making the client experience better."
   ]
  },
  {
   "cell_type": "markdown",
   "metadata": {},
   "source": [
    "## Data Cleaning Process:"
   ]
  },
  {
   "cell_type": "markdown",
   "metadata": {},
   "source": [
    "* **First we will look at the features which have null values in the below heat map:**\n",
    "    * We have null values in both the sys_created_at and the sys_created_by feature, and also the missing values are parallel, which means the same data point which has missing sys_created_by feature also have sys_created_at as missing. although the sys_created_at is a data and time column may be we can ask the client regarding why this feature is missing, as imputation of this process would lead to more noise in the data.\n",
    "    * For the sys_created_by feature, we will find out the patterns among the features so that every feature can be imputed accordingly\n",
    "    * u_symptom is a feed back feature from the client who raised the ticket, the null values in this feature can be considered in two ways, one of them is the client didnt give any feedback so that value is kept null, so we can impute the value as 'N/A' during the imputation process , the other way is, after talking with the client , may be we can find out if they have any default value for no feedback and impute those.\n",
    "    * We have two features which are assignment_group and assigned_to , we will find out the patterns between these features and impute accordingly.\n",
    "    * **We have features such as cmdb_ci,problem_id,rfc,vendor,caused_by as we can see that almost more than 95% of the data is NULL , so in this case unless we have some information from the client ,we will drop all these features.**\n",
    "    "
   ]
  },
  {
   "cell_type": "code",
   "execution_count": 8,
   "metadata": {},
   "outputs": [
    {
     "data": {
      "image/png": "[encoded data removed]",
      "text/plain": [
       "<Figure size 960x640 with 2 Axes>"
      ]
     },
     "metadata": {},
     "output_type": "display_data"
    }
   ],
   "source": [
    "plt.figure(num = None, figsize = (12,8),dpi = 80,facecolor = 'w',edgecolor ='k')\n",
    "sns.heatmap(data.isnull())\n",
    "plt.show()"
   ]
  },
  {
   "cell_type": "markdown",
   "metadata": {},
   "source": [
    "* **We are removing all the extra key words present infront of the value, as it will easier to do the EDA process.**"
   ]
  },
  {
   "cell_type": "code",
   "execution_count": 9,
   "metadata": {},
   "outputs": [],
   "source": [
    "data['location'] = data['location'].str.split(expand = True)[1]\n",
    "\n",
    "data['subcategory'] = data['subcategory'].str.split(expand = True)[1]\n",
    "\n",
    "data['category'] = data['category'].str.split(expand = True)[1]\n",
    "\n",
    "data['u_symptom'] = data['u_symptom'].str.split(expand = True)[1]\n",
    "\n",
    "data['impact'] = data['impact'].str.split(expand = True)[2]\n",
    "\n",
    "data['priority'] = data['priority'].str.split(expand = True)[2]\n",
    "\n",
    "data['urgency'] = data['urgency'].str.split(expand = True)[2]\n",
    "\n",
    "data['sys_created_by'] = data['sys_created_by'].str.split(expand = True)[2]\n",
    "\n",
    "data['opened_by'] = data['opened_by'].str.split(expand = True)[2]\n",
    "\n",
    "data['sys_updated_by'] = data['sys_updated_by'].str.split(expand = True)[2]\n",
    "\n",
    "data['resolved_by'] = data['resolved_by'].str.split(expand = True)[2]\n",
    "\n",
    "data['assignment_group'] = data['assignment_group'].str.split(expand = True)[1]\n",
    "\n",
    "data['assigned_to'] = data['assigned_to'].str.split(expand = True)[1]"
   ]
  },
  {
   "cell_type": "markdown",
   "metadata": {},
   "source": [
    "* **Converting all the date and time columns to datetime data type**"
   ]
  },
  {
   "cell_type": "code",
   "execution_count": 10,
   "metadata": {},
   "outputs": [],
   "source": [
    "data['opened_at'] = pd.to_datetime(data['opened_at'],dayfirst = True)\n",
    "\n",
    "data['sys_created_at'] = pd.to_datetime(data['sys_created_at'],dayfirst = True)\n",
    "\n",
    "data['resolved_at'] = pd.to_datetime(data['resolved_at'],dayfirst = True)\n",
    "\n",
    "data['closed_at'] = pd.to_datetime(data['closed_at'],dayfirst = True)\n",
    "\n",
    "data['sys_updated_at'] = pd.to_datetime(data['sys_updated_at'],dayfirst = True)"
   ]
  },
  {
   "cell_type": "code",
   "execution_count": 11,
   "metadata": {},
   "outputs": [],
   "source": [
    "#set(zip(data['opened_by'],data['sys_created_by']))"
   ]
  },
  {
   "cell_type": "markdown",
   "metadata": {},
   "source": [
    "* **If we look at the above SET , let's take the first two pair's which are 10-14 and 10-NaN, so in the first case, whenever the case is opened_by 10 it is created_by 14, in the next case as we do not have the value for the opend_by = 10 data point, we will impute 14 in this place looking at the values above as there are no other pair's available, and we will impute the complete feature using this pattern, but there are also some cases where one opened_by value has more than one sys_created_by value, so in this case we will take the mode of the sys_created_by and impute them**\n",
    "\n",
    "* **We will also use the same pattern for the opposite, i.e; we will use sys_created_by to find the opend_by feature.**"
   ]
  },
  {
   "cell_type": "code",
   "execution_count": 12,
   "metadata": {},
   "outputs": [],
   "source": [
    "set_opened_created = set(zip(data['opened_by'],data['sys_created_by']))\n",
    "for opened,created in set_opened_created:\n",
    "    if(isinstance(opened,str) and isinstance(created,str)):\n",
    "        data['sys_created_by'] = np.where((data['opened_by'] == opened) \n",
    "                                          & (data['sys_created_by'].isnull()),\n",
    "                                          created,data['sys_created_by'])"
   ]
  },
  {
   "cell_type": "code",
   "execution_count": 13,
   "metadata": {},
   "outputs": [
    {
     "name": "stdout",
     "output_type": "stream",
     "text": [
      "There are no values for opened_by 89\n",
      "There are no values for opened_by 18\n"
     ]
    }
   ],
   "source": [
    "array_opened = data['sys_created_by'][data['opened_by'].isnull()].unique()\n",
    "for i in array_opened:\n",
    "    if isinstance(i,str):\n",
    "        if (data['opened_by'][data['sys_created_by'] == i].isnull().value_counts(normalize = True).loc[True] == 1):\n",
    "            print(\"There are no values for opened_by {}\".format(i))\n",
    "        else:\n",
    "            print(\"The value for opened_by {} is :\".format(i))\n",
    "            print(data['opened_by'][data['sys_created_by'] == i].value_counts().iloc[0])"
   ]
  },
  {
   "cell_type": "markdown",
   "metadata": {},
   "source": [
    "* **As there are no other patterns, for the remaining null values, we will impute them with the mode.**"
   ]
  },
  {
   "cell_type": "code",
   "execution_count": 14,
   "metadata": {},
   "outputs": [],
   "source": [
    "mode_opened_by = data['opened_by'].mode()[0]\n",
    "mode_sys_created_by = data['sys_created_by'].mode()[0]\n",
    "data.fillna({'opened_by':mode_opened_by},inplace = True)\n",
    "data.fillna({'sys_created_by':mode_sys_created_by},inplace = True)"
   ]
  },
  {
   "cell_type": "markdown",
   "metadata": {},
   "source": [
    "* **LETS SEE IF WE CAN FIND THE SIMILAR PATTERN BETWEEN THE ASSIGNMENT_GROUP AND THE ASSIGNED_TO COLUMN.**"
   ]
  },
  {
   "cell_type": "code",
   "execution_count": 15,
   "metadata": {},
   "outputs": [],
   "source": [
    "#(list(zip(data['assignment_group'],data['assigned_to'])))"
   ]
  },
  {
   "cell_type": "code",
   "execution_count": 16,
   "metadata": {},
   "outputs": [],
   "source": [
    "#(list(zip(data['sys_created_by'],data['assigned_to'])))"
   ]
  },
  {
   "cell_type": "code",
   "execution_count": 17,
   "metadata": {},
   "outputs": [],
   "source": [
    "#(set(zip(data['sys_created_by'],data['assignment_group'])))"
   ]
  },
  {
   "cell_type": "code",
   "execution_count": 18,
   "metadata": {},
   "outputs": [
    {
     "data": {
      "text/plain": [
       "65    213\n",
       "56     18\n",
       "53     11\n",
       "25      6\n",
       "51      4\n",
       "70      2\n",
       "39      1\n",
       "76      1\n",
       "Name: assignment_group, dtype: int64"
      ]
     },
     "execution_count": 18,
     "metadata": {},
     "output_type": "execute_result"
    }
   ],
   "source": [
    "data['assignment_group'][data['sys_created_by'] == '5'].value_counts()"
   ]
  },
  {
   "cell_type": "code",
   "execution_count": 19,
   "metadata": {},
   "outputs": [
    {
     "data": {
      "text/plain": [
       "7      157\n",
       "2       29\n",
       "167     18\n",
       "197     12\n",
       "121     10\n",
       "210      9\n",
       "17       9\n",
       "4        7\n",
       "57       4\n",
       "41       1\n",
       "Name: assigned_to, dtype: int64"
      ]
     },
     "execution_count": 19,
     "metadata": {},
     "output_type": "execute_result"
    }
   ],
   "source": [
    "data['assigned_to'][data['sys_created_by'] == '5'].value_counts()"
   ]
  },
  {
   "cell_type": "code",
   "execution_count": 20,
   "metadata": {},
   "outputs": [
    {
     "data": {
      "text/plain": [
       "65    318\n",
       "51     13\n",
       "70      5\n",
       "25      2\n",
       "20      1\n",
       "56      1\n",
       "57      1\n",
       "55      1\n",
       "6       1\n",
       "61      1\n",
       "Name: assignment_group, dtype: int64"
      ]
     },
     "execution_count": 20,
     "metadata": {},
     "output_type": "execute_result"
    }
   ],
   "source": [
    "data['assignment_group'][data['assigned_to'] == '7'].value_counts()"
   ]
  },
  {
   "cell_type": "markdown",
   "metadata": {},
   "source": [
    "* **SO THE ABOVE RESULTS INDICATE THAT NO MATTER WHICH FEATURE WE CHOOSE TO IMPUTE THE ASSIGNMENT GROUP FEATURE, THE VALUE IS THE SAME, FOR EXAMPLE WE LOOK AT THE ASSIGNMENT GROUP AND SYS_CREATED_BY , THE VALUE 5 FOR SYS_CREATED_BY GAVE US 65 AS THE MODE (AS WE DONT SEE A TRUE PATTERN WE ARE IMPUTING WITH THE MODE , BUT IN A WAY WHERE WE CAN HAVE SOME CONFIDENCE THAT THIS VALUE CAN BE A POSSIBLE CHANCE FOR THE ASSIGNMENT GROUP) , NOW TO CROSS CHECK WE WILL FIND OUT WHAT IS THE MODE OF ASSINGED TO FEATURE WHICH HAS SYS CREATED BY FEATURE VALUE OF 5 WHICH IS 7, NOW WE WILL CHECK WHETHER VALUE OF ASSIGNMENT GROUP IS SAME OR NOT NO MATTER WHAT FEATURE WE USE FOR THE MODE IMPUTATION OF THE ASSIGNMENT GROUP FEATURE, WHICH YIELDED US THE SAME VALUE WHICH IS 65, SO WE WILL USE THE ASSIGNMENT GROUP AND THE ASSINGED TO FEATURES FOR FURTHUR IMPUTATION.**\n",
    "\n",
    "* **USING THE SAME METHOD FOR THE ASSIGNED_TO COLUMN AS WELL.**\n",
    "* **WE ARE ALSO USING THE SAME METHOD FOR IMPUTING THE RESOLVED_BY FEATURES AS WELL.**"
   ]
  },
  {
   "cell_type": "code",
   "execution_count": 21,
   "metadata": {},
   "outputs": [],
   "source": [
    "my_list = list(set(zip(data['assignment_group'],data['assigned_to'])))\n",
    "for package in my_list:\n",
    "    if np.isnan(float(package[1])):\n",
    "        assigned_to = list(data['assigned_to'][data['assignment_group'] == package[0]].value_counts().index)\n",
    "        if(len(assigned_to) != 0):\n",
    "            data['assigned_to'] = np.where((data['assignment_group'] == package[0]) & \n",
    "                                       (data['assigned_to'].isnull()),assigned_to[0],data['assigned_to'])\n",
    "    elif np.isnan(float(package[0])):\n",
    "        assignment_group = list(data['assignment_group'][data['assigned_to'] == package[1]].value_counts().index)\n",
    "        if(len(assignment_group) != 0):\n",
    "            data['assignment_group'] = np.where((data['assigned_to'] == package[1]) & \n",
    "                                        (data['assignment_group'].isnull()),assignment_group[0],data['assignment_group'])\n",
    "\n",
    "            \n",
    "# WE ARE FILLING ALL THE OTHER ROW'S WITH THE RESPECTIVE MODE'S OF THE FEATURES, WHICH HAVE BOTH THE FEATURES AS NULL.\n",
    "            \n",
    "AT_mode = data['assigned_to'].mode()\n",
    "AG_mode = data['assignment_group'].mode()\n",
    "data.fillna({'assigned_to':AT_mode[0],'assignment_group':AG_mode[0]},inplace = True)"
   ]
  },
  {
   "cell_type": "code",
   "execution_count": 22,
   "metadata": {},
   "outputs": [
    {
     "data": {
      "text/plain": [
       "['70', '20', '9', '25', '64', '5', '33', '22', '65', '73', '24']"
      ]
     },
     "execution_count": 22,
     "metadata": {},
     "output_type": "execute_result"
    }
   ],
   "source": [
    "list(data['assignment_group'][data['resolved_by'].isnull()].unique())"
   ]
  },
  {
   "cell_type": "code",
   "execution_count": 23,
   "metadata": {},
   "outputs": [],
   "source": [
    "#list(zip(data['assignment_group'],data['assigned_to'],data['resolved_by']))"
   ]
  },
  {
   "cell_type": "code",
   "execution_count": 24,
   "metadata": {},
   "outputs": [],
   "source": [
    "List_AG = list(data['assignment_group'][data['resolved_by'].isnull()].unique())\n",
    "for AG in List_AG:\n",
    "    RB = data['resolved_by'][data['assignment_group'] == AG].mode()[0]\n",
    "    data['resolved_by'] = np.where((data['assignment_group'] == AG) & (data['resolved_by'].isnull()),RB,data['resolved_by'])"
   ]
  },
  {
   "cell_type": "markdown",
   "metadata": {},
   "source": [
    "* **Now we will look at the features location , category and sub_category, these are in hierarchy, as in whenever an incident is raise at a location , it comes under one category and to simplify the process even furthur we have subcategory, so to impute the null values in all these features we will use all three features.**"
   ]
  },
  {
   "cell_type": "markdown",
   "metadata": {},
   "source": [
    "* **These are the different permutations possible and we will impute the values accordingly for the location , category and the sub_category features.**\n",
    "\n",
    "* **P - Present / Not Null**\n",
    "* **NP - Not Present / Null**\n",
    "\n",
    "| Location | category | sub_category |\n",
    "|----------|----------|--------------|\n",
    "| P        | NP       | NP            |\n",
    "| NP       | P        | NP            |\n",
    "| NP       | NP       | P            |\n",
    "| P        | P        | NP            |\n",
    "| P        | NP        | P            |\n",
    "| NP        | P        | P            |\n",
    "|NP        | NP        | NP            |\n",
    "| P        | P        | P            |"
   ]
  },
  {
   "cell_type": "code",
   "execution_count": 25,
   "metadata": {},
   "outputs": [
    {
     "data": {
      "text/html": [
       "<div>\n",
       "<style scoped>\n",
       "    .dataframe tbody tr th:only-of-type {\n",
       "        vertical-align: middle;\n",
       "    }\n",
       "\n",
       "    .dataframe tbody tr th {\n",
       "        vertical-align: top;\n",
       "    }\n",
       "\n",
       "    .dataframe thead th {\n",
       "        text-align: right;\n",
       "    }\n",
       "</style>\n",
       "<table border=\"1\" class=\"dataframe\">\n",
       "  <thead>\n",
       "    <tr style=\"text-align: right;\">\n",
       "      <th></th>\n",
       "      <th>location</th>\n",
       "      <th>category</th>\n",
       "      <th>subcategory</th>\n",
       "    </tr>\n",
       "  </thead>\n",
       "  <tbody>\n",
       "  </tbody>\n",
       "</table>\n",
       "</div>"
      ],
      "text/plain": [
       "Empty DataFrame\n",
       "Columns: [location, category, subcategory]\n",
       "Index: []"
      ]
     },
     "execution_count": 25,
     "metadata": {},
     "output_type": "execute_result"
    }
   ],
   "source": [
    "loc_null = data[['location','category','subcategory']][(data['location'].isnull()) \n",
    "                                                 & (data['category'].notnull()) \n",
    "                                                 & (data['subcategory'].notnull())]\n",
    "\n",
    "loc_null"
   ]
  },
  {
   "cell_type": "markdown",
   "metadata": {},
   "source": [
    "* **There are no data points where the location is null and the category and the sub_category are not null.**"
   ]
  },
  {
   "cell_type": "code",
   "execution_count": 26,
   "metadata": {},
   "outputs": [
    {
     "data": {
      "text/html": [
       "<div>\n",
       "<style scoped>\n",
       "    .dataframe tbody tr th:only-of-type {\n",
       "        vertical-align: middle;\n",
       "    }\n",
       "\n",
       "    .dataframe tbody tr th {\n",
       "        vertical-align: top;\n",
       "    }\n",
       "\n",
       "    .dataframe thead th {\n",
       "        text-align: right;\n",
       "    }\n",
       "</style>\n",
       "<table border=\"1\" class=\"dataframe\">\n",
       "  <thead>\n",
       "    <tr style=\"text-align: right;\">\n",
       "      <th></th>\n",
       "      <th>location</th>\n",
       "      <th>category</th>\n",
       "      <th>subcategory</th>\n",
       "    </tr>\n",
       "  </thead>\n",
       "  <tbody>\n",
       "  </tbody>\n",
       "</table>\n",
       "</div>"
      ],
      "text/plain": [
       "Empty DataFrame\n",
       "Columns: [location, category, subcategory]\n",
       "Index: []"
      ]
     },
     "execution_count": 26,
     "metadata": {},
     "output_type": "execute_result"
    }
   ],
   "source": [
    "cat_null = data[['location','category','subcategory']][(data['location'].notnull()) \n",
    "                                                 & (data['category'].isnull()) \n",
    "                                                 & (data['subcategory'].notnull())]\n",
    "\n",
    "cat_null"
   ]
  },
  {
   "cell_type": "markdown",
   "metadata": {},
   "source": [
    "* **There are no data points where the category is null and the location and the sub_category are not null.**"
   ]
  },
  {
   "cell_type": "code",
   "execution_count": 27,
   "metadata": {},
   "outputs": [
    {
     "data": {
      "text/html": [
       "<div>\n",
       "<style scoped>\n",
       "    .dataframe tbody tr th:only-of-type {\n",
       "        vertical-align: middle;\n",
       "    }\n",
       "\n",
       "    .dataframe tbody tr th {\n",
       "        vertical-align: top;\n",
       "    }\n",
       "\n",
       "    .dataframe thead th {\n",
       "        text-align: right;\n",
       "    }\n",
       "</style>\n",
       "<table border=\"1\" class=\"dataframe\">\n",
       "  <thead>\n",
       "    <tr style=\"text-align: right;\">\n",
       "      <th></th>\n",
       "      <th>location</th>\n",
       "      <th>category</th>\n",
       "      <th>subcategory</th>\n",
       "    </tr>\n",
       "  </thead>\n",
       "  <tbody>\n",
       "    <tr>\n",
       "      <th>84228</th>\n",
       "      <td>161</td>\n",
       "      <td>28</td>\n",
       "      <td>NaN</td>\n",
       "    </tr>\n",
       "  </tbody>\n",
       "</table>\n",
       "</div>"
      ],
      "text/plain": [
       "      location category subcategory\n",
       "84228      161       28         NaN"
      ]
     },
     "execution_count": 27,
     "metadata": {},
     "output_type": "execute_result"
    }
   ],
   "source": [
    "sub_cat_null = data[['location','category','subcategory']][(data['location'].notnull()) \n",
    "                                                 & (data['category'].notnull()) \n",
    "                                                 & (data['subcategory'].isnull())]\n",
    "\n",
    "sub_cat_null"
   ]
  },
  {
   "cell_type": "markdown",
   "metadata": {},
   "source": [
    "* **There is one data point where we have the location and the category but we do not have the sub_category , so first we will search for values where the location is 161 and the category is 28 and find if there are any values for sub_category and if we find one, we will impute that value.**"
   ]
  },
  {
   "cell_type": "code",
   "execution_count": 28,
   "metadata": {},
   "outputs": [
    {
     "data": {
      "text/plain": [
       "array(['174', nan], dtype=object)"
      ]
     },
     "execution_count": 28,
     "metadata": {},
     "output_type": "execute_result"
    }
   ],
   "source": [
    "data['subcategory'][(data['location'] == '161') & (data['category'] == '28')].unique()"
   ]
  },
  {
   "cell_type": "code",
   "execution_count": 29,
   "metadata": {},
   "outputs": [],
   "source": [
    "data['subcategory'] = np.where((data['location'] == '161') & (data['category'] == '28'),'174',data['subcategory'])"
   ]
  },
  {
   "cell_type": "code",
   "execution_count": 30,
   "metadata": {},
   "outputs": [
    {
     "data": {
      "text/html": [
       "<div>\n",
       "<style scoped>\n",
       "    .dataframe tbody tr th:only-of-type {\n",
       "        vertical-align: middle;\n",
       "    }\n",
       "\n",
       "    .dataframe tbody tr th {\n",
       "        vertical-align: top;\n",
       "    }\n",
       "\n",
       "    .dataframe thead th {\n",
       "        text-align: right;\n",
       "    }\n",
       "</style>\n",
       "<table border=\"1\" class=\"dataframe\">\n",
       "  <thead>\n",
       "    <tr style=\"text-align: right;\">\n",
       "      <th></th>\n",
       "      <th>location</th>\n",
       "      <th>category</th>\n",
       "      <th>subcategory</th>\n",
       "    </tr>\n",
       "  </thead>\n",
       "  <tbody>\n",
       "  </tbody>\n",
       "</table>\n",
       "</div>"
      ],
      "text/plain": [
       "Empty DataFrame\n",
       "Columns: [location, category, subcategory]\n",
       "Index: []"
      ]
     },
     "execution_count": 30,
     "metadata": {},
     "output_type": "execute_result"
    }
   ],
   "source": [
    "loc_cat_null = data[['location','category','subcategory']][(data['location'].isnull()) \n",
    "                                                 & (data['category'].isnull()) \n",
    "                                                 & (data['subcategory'].notnull())]\n",
    "\n",
    "loc_cat_null"
   ]
  },
  {
   "cell_type": "markdown",
   "metadata": {},
   "source": [
    "* **There are no data points where the sub_category is null and the location and the category are not null.**"
   ]
  },
  {
   "cell_type": "code",
   "execution_count": 31,
   "metadata": {},
   "outputs": [
    {
     "data": {
      "text/html": [
       "<div>\n",
       "<style scoped>\n",
       "    .dataframe tbody tr th:only-of-type {\n",
       "        vertical-align: middle;\n",
       "    }\n",
       "\n",
       "    .dataframe tbody tr th {\n",
       "        vertical-align: top;\n",
       "    }\n",
       "\n",
       "    .dataframe thead th {\n",
       "        text-align: right;\n",
       "    }\n",
       "</style>\n",
       "<table border=\"1\" class=\"dataframe\">\n",
       "  <thead>\n",
       "    <tr style=\"text-align: right;\">\n",
       "      <th></th>\n",
       "      <th>location</th>\n",
       "      <th>category</th>\n",
       "      <th>subcategory</th>\n",
       "    </tr>\n",
       "  </thead>\n",
       "  <tbody>\n",
       "    <tr>\n",
       "      <th>17069</th>\n",
       "      <td>NaN</td>\n",
       "      <td>41</td>\n",
       "      <td>NaN</td>\n",
       "    </tr>\n",
       "    <tr>\n",
       "      <th>18033</th>\n",
       "      <td>NaN</td>\n",
       "      <td>41</td>\n",
       "      <td>NaN</td>\n",
       "    </tr>\n",
       "    <tr>\n",
       "      <th>19884</th>\n",
       "      <td>NaN</td>\n",
       "      <td>41</td>\n",
       "      <td>NaN</td>\n",
       "    </tr>\n",
       "    <tr>\n",
       "      <th>19887</th>\n",
       "      <td>NaN</td>\n",
       "      <td>41</td>\n",
       "      <td>NaN</td>\n",
       "    </tr>\n",
       "    <tr>\n",
       "      <th>20115</th>\n",
       "      <td>NaN</td>\n",
       "      <td>41</td>\n",
       "      <td>NaN</td>\n",
       "    </tr>\n",
       "    <tr>\n",
       "      <th>20696</th>\n",
       "      <td>NaN</td>\n",
       "      <td>41</td>\n",
       "      <td>NaN</td>\n",
       "    </tr>\n",
       "    <tr>\n",
       "      <th>20940</th>\n",
       "      <td>NaN</td>\n",
       "      <td>41</td>\n",
       "      <td>NaN</td>\n",
       "    </tr>\n",
       "    <tr>\n",
       "      <th>20943</th>\n",
       "      <td>NaN</td>\n",
       "      <td>41</td>\n",
       "      <td>NaN</td>\n",
       "    </tr>\n",
       "    <tr>\n",
       "      <th>21319</th>\n",
       "      <td>NaN</td>\n",
       "      <td>41</td>\n",
       "      <td>NaN</td>\n",
       "    </tr>\n",
       "    <tr>\n",
       "      <th>22006</th>\n",
       "      <td>NaN</td>\n",
       "      <td>41</td>\n",
       "      <td>NaN</td>\n",
       "    </tr>\n",
       "    <tr>\n",
       "      <th>23075</th>\n",
       "      <td>NaN</td>\n",
       "      <td>36</td>\n",
       "      <td>NaN</td>\n",
       "    </tr>\n",
       "    <tr>\n",
       "      <th>23076</th>\n",
       "      <td>NaN</td>\n",
       "      <td>36</td>\n",
       "      <td>NaN</td>\n",
       "    </tr>\n",
       "    <tr>\n",
       "      <th>23077</th>\n",
       "      <td>NaN</td>\n",
       "      <td>35</td>\n",
       "      <td>NaN</td>\n",
       "    </tr>\n",
       "    <tr>\n",
       "      <th>25445</th>\n",
       "      <td>NaN</td>\n",
       "      <td>41</td>\n",
       "      <td>NaN</td>\n",
       "    </tr>\n",
       "    <tr>\n",
       "      <th>25827</th>\n",
       "      <td>NaN</td>\n",
       "      <td>41</td>\n",
       "      <td>NaN</td>\n",
       "    </tr>\n",
       "    <tr>\n",
       "      <th>25987</th>\n",
       "      <td>NaN</td>\n",
       "      <td>41</td>\n",
       "      <td>NaN</td>\n",
       "    </tr>\n",
       "    <tr>\n",
       "      <th>27616</th>\n",
       "      <td>NaN</td>\n",
       "      <td>41</td>\n",
       "      <td>NaN</td>\n",
       "    </tr>\n",
       "    <tr>\n",
       "      <th>29150</th>\n",
       "      <td>NaN</td>\n",
       "      <td>41</td>\n",
       "      <td>NaN</td>\n",
       "    </tr>\n",
       "    <tr>\n",
       "      <th>29206</th>\n",
       "      <td>NaN</td>\n",
       "      <td>41</td>\n",
       "      <td>NaN</td>\n",
       "    </tr>\n",
       "    <tr>\n",
       "      <th>29956</th>\n",
       "      <td>NaN</td>\n",
       "      <td>41</td>\n",
       "      <td>NaN</td>\n",
       "    </tr>\n",
       "    <tr>\n",
       "      <th>30870</th>\n",
       "      <td>NaN</td>\n",
       "      <td>41</td>\n",
       "      <td>NaN</td>\n",
       "    </tr>\n",
       "    <tr>\n",
       "      <th>31431</th>\n",
       "      <td>NaN</td>\n",
       "      <td>41</td>\n",
       "      <td>NaN</td>\n",
       "    </tr>\n",
       "    <tr>\n",
       "      <th>31674</th>\n",
       "      <td>NaN</td>\n",
       "      <td>41</td>\n",
       "      <td>NaN</td>\n",
       "    </tr>\n",
       "    <tr>\n",
       "      <th>31819</th>\n",
       "      <td>NaN</td>\n",
       "      <td>41</td>\n",
       "      <td>NaN</td>\n",
       "    </tr>\n",
       "    <tr>\n",
       "      <th>32070</th>\n",
       "      <td>NaN</td>\n",
       "      <td>41</td>\n",
       "      <td>NaN</td>\n",
       "    </tr>\n",
       "    <tr>\n",
       "      <th>33384</th>\n",
       "      <td>NaN</td>\n",
       "      <td>41</td>\n",
       "      <td>NaN</td>\n",
       "    </tr>\n",
       "    <tr>\n",
       "      <th>33387</th>\n",
       "      <td>NaN</td>\n",
       "      <td>41</td>\n",
       "      <td>NaN</td>\n",
       "    </tr>\n",
       "    <tr>\n",
       "      <th>33390</th>\n",
       "      <td>NaN</td>\n",
       "      <td>41</td>\n",
       "      <td>NaN</td>\n",
       "    </tr>\n",
       "    <tr>\n",
       "      <th>34504</th>\n",
       "      <td>NaN</td>\n",
       "      <td>41</td>\n",
       "      <td>NaN</td>\n",
       "    </tr>\n",
       "    <tr>\n",
       "      <th>34507</th>\n",
       "      <td>NaN</td>\n",
       "      <td>41</td>\n",
       "      <td>NaN</td>\n",
       "    </tr>\n",
       "    <tr>\n",
       "      <th>40109</th>\n",
       "      <td>NaN</td>\n",
       "      <td>41</td>\n",
       "      <td>NaN</td>\n",
       "    </tr>\n",
       "    <tr>\n",
       "      <th>40118</th>\n",
       "      <td>NaN</td>\n",
       "      <td>41</td>\n",
       "      <td>NaN</td>\n",
       "    </tr>\n",
       "  </tbody>\n",
       "</table>\n",
       "</div>"
      ],
      "text/plain": [
       "      location category subcategory\n",
       "17069      NaN       41         NaN\n",
       "18033      NaN       41         NaN\n",
       "19884      NaN       41         NaN\n",
       "19887      NaN       41         NaN\n",
       "20115      NaN       41         NaN\n",
       "20696      NaN       41         NaN\n",
       "20940      NaN       41         NaN\n",
       "20943      NaN       41         NaN\n",
       "21319      NaN       41         NaN\n",
       "22006      NaN       41         NaN\n",
       "23075      NaN       36         NaN\n",
       "23076      NaN       36         NaN\n",
       "23077      NaN       35         NaN\n",
       "25445      NaN       41         NaN\n",
       "25827      NaN       41         NaN\n",
       "25987      NaN       41         NaN\n",
       "27616      NaN       41         NaN\n",
       "29150      NaN       41         NaN\n",
       "29206      NaN       41         NaN\n",
       "29956      NaN       41         NaN\n",
       "30870      NaN       41         NaN\n",
       "31431      NaN       41         NaN\n",
       "31674      NaN       41         NaN\n",
       "31819      NaN       41         NaN\n",
       "32070      NaN       41         NaN\n",
       "33384      NaN       41         NaN\n",
       "33387      NaN       41         NaN\n",
       "33390      NaN       41         NaN\n",
       "34504      NaN       41         NaN\n",
       "34507      NaN       41         NaN\n",
       "40109      NaN       41         NaN\n",
       "40118      NaN       41         NaN"
      ]
     },
     "execution_count": 31,
     "metadata": {},
     "output_type": "execute_result"
    }
   ],
   "source": [
    "loc_sub_cat_null = data[['location','category','subcategory']][(data['location'].isnull()) \n",
    "                                                 & (data['category'].notnull()) \n",
    "                                                 & (data['subcategory'].isnull())]\n",
    "\n",
    "loc_sub_cat_null"
   ]
  },
  {
   "cell_type": "code",
   "execution_count": 32,
   "metadata": {},
   "outputs": [
    {
     "data": {
      "text/plain": [
       "array(['41', '36', '35'], dtype=object)"
      ]
     },
     "execution_count": 32,
     "metadata": {},
     "output_type": "execute_result"
    }
   ],
   "source": [
    "loc_sub_cat_null['category'].unique()"
   ]
  },
  {
   "cell_type": "markdown",
   "metadata": {},
   "source": [
    "* **So we find that there are 3 categories ['41', '36', '35'] where the location and the sub_category are not present, one way is to look at the indexes in the above data frame, as we can see that all are different, which means there are already some data points of the same 'number' all we have to do is find that data point using the index and impute their respective location and sub_category.**"
   ]
  },
  {
   "cell_type": "code",
   "execution_count": 33,
   "metadata": {},
   "outputs": [],
   "source": [
    "for i in list(loc_sub_cat_null.index):\n",
    "    number = data.iloc[i]['number']\n",
    "    location = data['location'][data['number'] == number].mode()\n",
    "    if len(location) != 0:\n",
    "        data['location'] = np.where((data['number'] == number) & (data['location'].isnull()),location,data['location'])\n",
    "    sub_cat_mode = data['subcategory'][data['number'] == number].mode()\n",
    "    if len(sub_cat_mode) != 0:\n",
    "        data['subcategory'] = np.where((data['number'] == number) & (data['subcategory'].isnull()),sub_cat_mode,data['subcategory'])"
   ]
  },
  {
   "cell_type": "code",
   "execution_count": 34,
   "metadata": {},
   "outputs": [
    {
     "data": {
      "text/html": [
       "<div>\n",
       "<style scoped>\n",
       "    .dataframe tbody tr th:only-of-type {\n",
       "        vertical-align: middle;\n",
       "    }\n",
       "\n",
       "    .dataframe tbody tr th {\n",
       "        vertical-align: top;\n",
       "    }\n",
       "\n",
       "    .dataframe thead th {\n",
       "        text-align: right;\n",
       "    }\n",
       "</style>\n",
       "<table border=\"1\" class=\"dataframe\">\n",
       "  <thead>\n",
       "    <tr style=\"text-align: right;\">\n",
       "      <th></th>\n",
       "      <th>location</th>\n",
       "      <th>category</th>\n",
       "      <th>subcategory</th>\n",
       "    </tr>\n",
       "  </thead>\n",
       "  <tbody>\n",
       "    <tr>\n",
       "      <th>1079</th>\n",
       "      <td>204</td>\n",
       "      <td>NaN</td>\n",
       "      <td>NaN</td>\n",
       "    </tr>\n",
       "    <tr>\n",
       "      <th>1080</th>\n",
       "      <td>204</td>\n",
       "      <td>NaN</td>\n",
       "      <td>NaN</td>\n",
       "    </tr>\n",
       "    <tr>\n",
       "      <th>1081</th>\n",
       "      <td>204</td>\n",
       "      <td>NaN</td>\n",
       "      <td>NaN</td>\n",
       "    </tr>\n",
       "    <tr>\n",
       "      <th>1082</th>\n",
       "      <td>204</td>\n",
       "      <td>NaN</td>\n",
       "      <td>NaN</td>\n",
       "    </tr>\n",
       "    <tr>\n",
       "      <th>1083</th>\n",
       "      <td>204</td>\n",
       "      <td>NaN</td>\n",
       "      <td>NaN</td>\n",
       "    </tr>\n",
       "    <tr>\n",
       "      <th>1084</th>\n",
       "      <td>204</td>\n",
       "      <td>NaN</td>\n",
       "      <td>NaN</td>\n",
       "    </tr>\n",
       "    <tr>\n",
       "      <th>1085</th>\n",
       "      <td>204</td>\n",
       "      <td>NaN</td>\n",
       "      <td>NaN</td>\n",
       "    </tr>\n",
       "    <tr>\n",
       "      <th>1086</th>\n",
       "      <td>204</td>\n",
       "      <td>NaN</td>\n",
       "      <td>NaN</td>\n",
       "    </tr>\n",
       "    <tr>\n",
       "      <th>1087</th>\n",
       "      <td>204</td>\n",
       "      <td>NaN</td>\n",
       "      <td>NaN</td>\n",
       "    </tr>\n",
       "    <tr>\n",
       "      <th>1088</th>\n",
       "      <td>51</td>\n",
       "      <td>NaN</td>\n",
       "      <td>NaN</td>\n",
       "    </tr>\n",
       "    <tr>\n",
       "      <th>1089</th>\n",
       "      <td>51</td>\n",
       "      <td>NaN</td>\n",
       "      <td>NaN</td>\n",
       "    </tr>\n",
       "    <tr>\n",
       "      <th>1090</th>\n",
       "      <td>51</td>\n",
       "      <td>NaN</td>\n",
       "      <td>NaN</td>\n",
       "    </tr>\n",
       "    <tr>\n",
       "      <th>1091</th>\n",
       "      <td>51</td>\n",
       "      <td>NaN</td>\n",
       "      <td>NaN</td>\n",
       "    </tr>\n",
       "    <tr>\n",
       "      <th>2989</th>\n",
       "      <td>125</td>\n",
       "      <td>NaN</td>\n",
       "      <td>NaN</td>\n",
       "    </tr>\n",
       "    <tr>\n",
       "      <th>2990</th>\n",
       "      <td>125</td>\n",
       "      <td>NaN</td>\n",
       "      <td>NaN</td>\n",
       "    </tr>\n",
       "    <tr>\n",
       "      <th>2991</th>\n",
       "      <td>125</td>\n",
       "      <td>NaN</td>\n",
       "      <td>NaN</td>\n",
       "    </tr>\n",
       "    <tr>\n",
       "      <th>2992</th>\n",
       "      <td>55</td>\n",
       "      <td>NaN</td>\n",
       "      <td>NaN</td>\n",
       "    </tr>\n",
       "    <tr>\n",
       "      <th>2993</th>\n",
       "      <td>55</td>\n",
       "      <td>NaN</td>\n",
       "      <td>NaN</td>\n",
       "    </tr>\n",
       "    <tr>\n",
       "      <th>2994</th>\n",
       "      <td>55</td>\n",
       "      <td>NaN</td>\n",
       "      <td>NaN</td>\n",
       "    </tr>\n",
       "    <tr>\n",
       "      <th>2995</th>\n",
       "      <td>55</td>\n",
       "      <td>NaN</td>\n",
       "      <td>NaN</td>\n",
       "    </tr>\n",
       "    <tr>\n",
       "      <th>141177</th>\n",
       "      <td>50</td>\n",
       "      <td>NaN</td>\n",
       "      <td>NaN</td>\n",
       "    </tr>\n",
       "    <tr>\n",
       "      <th>141209</th>\n",
       "      <td>71</td>\n",
       "      <td>NaN</td>\n",
       "      <td>NaN</td>\n",
       "    </tr>\n",
       "    <tr>\n",
       "      <th>141238</th>\n",
       "      <td>206</td>\n",
       "      <td>NaN</td>\n",
       "      <td>NaN</td>\n",
       "    </tr>\n",
       "    <tr>\n",
       "      <th>141301</th>\n",
       "      <td>217</td>\n",
       "      <td>NaN</td>\n",
       "      <td>NaN</td>\n",
       "    </tr>\n",
       "    <tr>\n",
       "      <th>141326</th>\n",
       "      <td>173</td>\n",
       "      <td>NaN</td>\n",
       "      <td>NaN</td>\n",
       "    </tr>\n",
       "    <tr>\n",
       "      <th>141337</th>\n",
       "      <td>204</td>\n",
       "      <td>NaN</td>\n",
       "      <td>NaN</td>\n",
       "    </tr>\n",
       "    <tr>\n",
       "      <th>141338</th>\n",
       "      <td>204</td>\n",
       "      <td>NaN</td>\n",
       "      <td>NaN</td>\n",
       "    </tr>\n",
       "    <tr>\n",
       "      <th>141444</th>\n",
       "      <td>204</td>\n",
       "      <td>NaN</td>\n",
       "      <td>NaN</td>\n",
       "    </tr>\n",
       "    <tr>\n",
       "      <th>141493</th>\n",
       "      <td>75</td>\n",
       "      <td>NaN</td>\n",
       "      <td>NaN</td>\n",
       "    </tr>\n",
       "    <tr>\n",
       "      <th>141505</th>\n",
       "      <td>204</td>\n",
       "      <td>NaN</td>\n",
       "      <td>NaN</td>\n",
       "    </tr>\n",
       "    <tr>\n",
       "      <th>141523</th>\n",
       "      <td>204</td>\n",
       "      <td>NaN</td>\n",
       "      <td>NaN</td>\n",
       "    </tr>\n",
       "    <tr>\n",
       "      <th>141552</th>\n",
       "      <td>204</td>\n",
       "      <td>NaN</td>\n",
       "      <td>NaN</td>\n",
       "    </tr>\n",
       "    <tr>\n",
       "      <th>141590</th>\n",
       "      <td>75</td>\n",
       "      <td>NaN</td>\n",
       "      <td>NaN</td>\n",
       "    </tr>\n",
       "    <tr>\n",
       "      <th>141674</th>\n",
       "      <td>217</td>\n",
       "      <td>NaN</td>\n",
       "      <td>NaN</td>\n",
       "    </tr>\n",
       "  </tbody>\n",
       "</table>\n",
       "</div>"
      ],
      "text/plain": [
       "       location category subcategory\n",
       "1079        204      NaN         NaN\n",
       "1080        204      NaN         NaN\n",
       "1081        204      NaN         NaN\n",
       "1082        204      NaN         NaN\n",
       "1083        204      NaN         NaN\n",
       "1084        204      NaN         NaN\n",
       "1085        204      NaN         NaN\n",
       "1086        204      NaN         NaN\n",
       "1087        204      NaN         NaN\n",
       "1088         51      NaN         NaN\n",
       "1089         51      NaN         NaN\n",
       "1090         51      NaN         NaN\n",
       "1091         51      NaN         NaN\n",
       "2989        125      NaN         NaN\n",
       "2990        125      NaN         NaN\n",
       "2991        125      NaN         NaN\n",
       "2992         55      NaN         NaN\n",
       "2993         55      NaN         NaN\n",
       "2994         55      NaN         NaN\n",
       "2995         55      NaN         NaN\n",
       "141177       50      NaN         NaN\n",
       "141209       71      NaN         NaN\n",
       "141238      206      NaN         NaN\n",
       "141301      217      NaN         NaN\n",
       "141326      173      NaN         NaN\n",
       "141337      204      NaN         NaN\n",
       "141338      204      NaN         NaN\n",
       "141444      204      NaN         NaN\n",
       "141493       75      NaN         NaN\n",
       "141505      204      NaN         NaN\n",
       "141523      204      NaN         NaN\n",
       "141552      204      NaN         NaN\n",
       "141590       75      NaN         NaN\n",
       "141674      217      NaN         NaN"
      ]
     },
     "execution_count": 34,
     "metadata": {},
     "output_type": "execute_result"
    }
   ],
   "source": [
    "cat_sub_cat_null = data[['location','category','subcategory']][(data['location'].notnull()) \n",
    "                                                 & (data['category'].isnull()) \n",
    "                                                 & (data['subcategory'].isnull())]\n",
    "\n",
    "cat_sub_cat_null"
   ]
  },
  {
   "cell_type": "code",
   "execution_count": 35,
   "metadata": {},
   "outputs": [
    {
     "data": {
      "text/plain": [
       "array(['204', '51', '125', '55', '50', '71', '206', '217', '173', '75'],\n",
       "      dtype=object)"
      ]
     },
     "execution_count": 35,
     "metadata": {},
     "output_type": "execute_result"
    }
   ],
   "source": [
    "cat_sub_cat_null['location'].unique()"
   ]
  },
  {
   "cell_type": "markdown",
   "metadata": {},
   "source": [
    "* **So even in this case we have the values of location ['204', '51', '125', '55', '50', '71', '206', '217', '173', '75'] where the category and the sub_category are null, again if we look at the indexes the values are different, which means we already have the values for that 'number' ,so we will implement the similar method as above.**"
   ]
  },
  {
   "cell_type": "code",
   "execution_count": 36,
   "metadata": {},
   "outputs": [],
   "source": [
    "new_list_cat_sub_cat_null = []\n",
    "for i in list(cat_sub_cat_null.index):\n",
    "    number = data.iloc[i]['number']\n",
    "    if number not in new_list_cat_sub_cat_null:\n",
    "        new_list_cat_sub_cat_null.append(number)"
   ]
  },
  {
   "cell_type": "code",
   "execution_count": 37,
   "metadata": {},
   "outputs": [],
   "source": [
    "for i in new_list_cat_sub_cat_null:\n",
    "    sub_cat_mode = data['subcategory'][data['number'] == i].mode()\n",
    "    if len(sub_cat_mode) != 0:\n",
    "        data['subcategory'] = np.where((data['number'] == i) & (data['subcategory'].isnull()),sub_cat_mode,\n",
    "                                      data['subcategory'])\n",
    "    cat_mode = data['category'][data['number'] == i].mode()\n",
    "    if len(cat_mode) != 0:\n",
    "        data['category'] = np.where((data['number'] == i) & (data['category'].isnull()),cat_mode,\n",
    "                                      data['category'])"
   ]
  },
  {
   "cell_type": "markdown",
   "metadata": {},
   "source": [
    "* **There are some values where we do not find any value for each location, category and sub_category, so we will impute the mode of the respective feature.**"
   ]
  },
  {
   "cell_type": "code",
   "execution_count": 38,
   "metadata": {},
   "outputs": [],
   "source": [
    "#FOR THE REMAINING!\n",
    "\n",
    "cat_sub_cat_null = data[['location','category','subcategory']][(data['location'].notnull()) \n",
    "                                                 & (data['category'].isnull()) \n",
    "                                                 & (data['subcategory'].isnull())]\n",
    "\n",
    "\n",
    "for i in cat_sub_cat_null['location']:\n",
    "    cat = data['category'][data['location'] == i].mode()\n",
    "    sub_cat = data['subcategory'][data['location'] == i].mode()\n",
    "        \n",
    "    data['category'] = np.where((data['location'] == i) & (data['category'].isnull()),cat,data['category'])\n",
    "    data['subcategory'] = np.where((data['location'] == i) & (data['subcategory'].isnull()),sub_cat,data['subcategory'])"
   ]
  },
  {
   "cell_type": "code",
   "execution_count": 39,
   "metadata": {
    "scrolled": true
   },
   "outputs": [],
   "source": [
    "all_null = data[['location','category','subcategory']][(data['location'].isnull()) \n",
    "                                                 & (data['category'].isnull()) \n",
    "                                                 & (data['subcategory'].isnull())]\n",
    "\n",
    "new_list_all_null = []\n",
    "for i in list(all_null.index):\n",
    "    number = data.iloc[i]['number']\n",
    "    if number not in new_list_all_null:\n",
    "        new_list_all_null.append(number)"
   ]
  },
  {
   "cell_type": "markdown",
   "metadata": {},
   "source": [
    "* **THOUGH THERE ARE ALL NULL VALUES IN THE ABOVE DATA FRAME, THERE ARE SOME NULL FOR WHICH WE HAVE VALUE'S WHICH ARE ALREADY PRESENT IN THE DATA SET.**\n",
    "* **PLEASE FIND AN EXAMPLE BELOW:**\n",
    "    * IF YOU LOOK AT THE TIME DIFFERENCE BETWEEN THE DATA POINTS , ALMOST EVERY DATA POINT HAS A TIME DIFFERENCE OF LESS THAN 2 BETWEEN THE OPENED_AT AND THE RESOLVED_AT FEATURE, WHICH MEANS THESE FEATURES DONT NEED ANY HELP FOR THE HIERARCHY OF VENDOR WHICH MEANS THE PERSON WHO RECEIVED MUST HAVE RESOLVED THE ISSUE, BUT ON THE OTHER HAND IF YOU LOOK AT SOME OF THE VALUES SUCH AS DATA POINT 5492, THE TIME DIFFERENCE IS ALOT MORE THAN 2 , WHICH MEANS IT TOOK SOME TIME TO RESOLVE THE ISSUE, SO IF WE CROSS CHECK THE 'NUMBER' WE COULD FIND OUT THE LOCATION , CATEGORY AND SUB CATEGORY."
   ]
  },
  {
   "cell_type": "code",
   "execution_count": 40,
   "metadata": {
    "scrolled": true
   },
   "outputs": [],
   "source": [
    "#data[['opened_at','resolved_at']][data['location'].isnull() &\n",
    "   # data['category'].isnull() & \n",
    "  #  data['subcategory'].isnull()]"
   ]
  },
  {
   "cell_type": "code",
   "execution_count": 41,
   "metadata": {},
   "outputs": [],
   "source": [
    "for i in new_list_all_null:\n",
    "    loc_mode = data['location'][data['number'] == i].mode()\n",
    "    if len(loc_mode) != 0:\n",
    "        data['location'] = np.where((data['number'] == i) & (data['location'].isnull()),loc_mode,\n",
    "                                      data['location'])\n",
    "    sub_cat_mode = data['subcategory'][data['number'] == i].mode()\n",
    "    if len(sub_cat_mode) != 0:\n",
    "        data['subcategory'] = np.where((data['number'] == i) & (data['subcategory'].isnull()),sub_cat_mode,\n",
    "                                      data['subcategory'])\n",
    "    cat_mode = data['category'][data['number'] == i].mode()\n",
    "    if len(cat_mode) != 0:\n",
    "        data['category'] = np.where((data['number'] == i) & (data['category'].isnull()),cat_mode,\n",
    "                                      data['category'])"
   ]
  },
  {
   "cell_type": "markdown",
   "metadata": {},
   "source": [
    "* **FOR THE VALUES WHERE THE LOCATION CATEGORY AND THE SUB CATEGORY ARE NULL, WE ARE USING THE OPENED_BY COLUMN, AND IMPUTING THE THREE VALUES WITH MODE, WHERE THE OPENED_BY FEATURE HAS THAT VALUE.**"
   ]
  },
  {
   "cell_type": "code",
   "execution_count": 42,
   "metadata": {},
   "outputs": [],
   "source": [
    "list_all__null = list(data['opened_by'][(data['location'].isnull())\n",
    "                 & (data['category'].isnull())\n",
    "                 & (data['subcategory'].isnull())].unique())\n",
    "\n",
    "for i in list_all__null:\n",
    "    location = data['location'][data['opened_by'] == i].mode()[0]\n",
    "    category = data['category'][data['opened_by'] == i].mode()[0]\n",
    "    sub_category = data['subcategory'][data['opened_by'] == i].mode()[0]\n",
    "    data['location'] = np.where((data['opened_by'] == i) & (data['location'].isnull()),\n",
    "                                location,data['location'])\n",
    "    \n",
    "    data['category'] = np.where((data['opened_by'] == i) & (data['category'].isnull()),\n",
    "                                category,data['category'])\n",
    "    \n",
    "    data['subcategory'] = np.where((data['opened_by'] == i) & (data['subcategory'].isnull()),\n",
    "                                   sub_category,data['subcategory'])\n",
    "    "
   ]
  },
  {
   "cell_type": "markdown",
   "metadata": {},
   "source": [
    "* **WE WILL IMPUTE THE SYS_CREATED_AT (DATE AND TIME) COLUMN, USING THE OPENED_AT COLUMN, BY NOW IT IS CLEAR THAT FIRST THE ISSUE IS CREATED AND THEN THE ISSUE IS OPENED BY THE VENDOR, SO IT IS OBVIOUS THAT THE TIME FOR SYS_CREATED_AT WOULD BE LESS THAN OPENED_AT , SO WE WILL TAKE ALL THE DIFFERENT VALUE'S OF THE DIFFERENCE BETWEEN THE SYS_CREATED_AT AND THE OPENED_AT FEATURES AND USE THAT FOR THE IMPUTATION PROCESS.**"
   ]
  },
  {
   "cell_type": "code",
   "execution_count": 43,
   "metadata": {},
   "outputs": [],
   "source": [
    "time_data = data[['number','opened_at','sys_created_at','resolved_at','closed_at','sys_updated_at']]\n",
    "time_CA_OA = time_data[['opened_at','sys_created_at']][time_data['sys_created_at'].notnull()]\n",
    "time_data_CA_OA = set(zip((time_CA_OA['opened_at']) - (time_CA_OA['sys_created_at'])))"
   ]
  },
  {
   "cell_type": "code",
   "execution_count": 44,
   "metadata": {},
   "outputs": [],
   "source": [
    "total = []\n",
    "for time in time_data_CA_OA:\n",
    "    total.append(time[0].seconds)"
   ]
  },
  {
   "cell_type": "code",
   "execution_count": 45,
   "metadata": {},
   "outputs": [
    {
     "data": {
      "text/plain": [
       "<matplotlib.axes._subplots.AxesSubplot at 0x1f398d75430>"
      ]
     },
     "execution_count": 45,
     "metadata": {},
     "output_type": "execute_result"
    },
    {
     "data": {
      "image/png": "[encoded data removed]",
      "text/plain": [
       "<Figure size 432x288 with 2 Axes>"
      ]
     },
     "metadata": {
      "needs_background": "light"
     },
     "output_type": "display_data"
    }
   ],
   "source": [
    "f, (ax_box, ax_hist) = plt.subplots(2, sharex=True, gridspec_kw={\"height_ratios\": (.15, .85)})\n",
    "sns.boxplot(total, ax=ax_box)\n",
    "sns.distplot(total, ax=ax_hist)"
   ]
  },
  {
   "cell_type": "markdown",
   "metadata": {},
   "source": [
    "* **AS THERE ARE CASES FOR WHICH THE OPENED_AT AND THE SYS_CREATED_AT HAVE ALOT OF DIFFERENCE, THESE ARE THE EXTREME VALUES, WE WILL HAVE TO FIND OUT WHY IT TOOK A LOT OF TIME FOR THESE ISSUES, BUT THAT IS NOT THE CASE IN GENERAL SO WE WILL REMOVE THE EXTREME VALUES USING IQR METHOD AND SEE IF WE CAN FIND A NORMAL DISTRIBUTION FOR THE IMPUTATION PURPOSE.**"
   ]
  },
  {
   "cell_type": "code",
   "execution_count": 46,
   "metadata": {},
   "outputs": [],
   "source": [
    "total = pd.Series(total)\n",
    "\n",
    "q1_total = total.quantile(0.25)\n",
    "q2_total = total.quantile()\n",
    "q3_total = total.quantile(0.75)\n",
    "\n",
    "iqr = q3_total- q1_total\n",
    "ul = q3_total + 1.5*iqr\n",
    "ll = q1_total - 1.5*iqr\n",
    "\n",
    "total = total[(total > ll) & (total < ul)]"
   ]
  },
  {
   "cell_type": "markdown",
   "metadata": {},
   "source": [
    "* **AS WE CAN SEE THAT THE DISTRIBUTION IS A LITTLE LEFT SKEWED , WE WILL USE THE MEDIAN AND ADD THIS TIME WITH THE OPENED_AT COLUMN AND IMPUTE THE NULL VALUES IN THE RESPECTIVE SYS_CREATED_AT COLUMN.**"
   ]
  },
  {
   "cell_type": "code",
   "execution_count": 47,
   "metadata": {},
   "outputs": [
    {
     "data": {
      "text/plain": [
       "<matplotlib.axes._subplots.AxesSubplot at 0x1f39cd056d0>"
      ]
     },
     "execution_count": 47,
     "metadata": {},
     "output_type": "execute_result"
    },
    {
     "data": {
      "image/png": "[encoded data removed]",
      "text/plain": [
       "<Figure size 432x288 with 2 Axes>"
      ]
     },
     "metadata": {
      "needs_background": "light"
     },
     "output_type": "display_data"
    }
   ],
   "source": [
    "f, (ax_box, ax_hist) = plt.subplots(2, sharex=True, gridspec_kw={\"height_ratios\": (.15, .85)})\n",
    "sns.boxplot(total, ax=ax_box)\n",
    "sns.distplot(total, ax=ax_hist)"
   ]
  },
  {
   "cell_type": "code",
   "execution_count": 48,
   "metadata": {},
   "outputs": [],
   "source": [
    "total_median = total.median()\n",
    "data.fillna({'sys_created_at':data['opened_at']+datetime.timedelta(seconds = total_median)},inplace = True)"
   ]
  },
  {
   "cell_type": "markdown",
   "metadata": {},
   "source": [
    "* **WE WILL USE THE SIMILAR METHOD FOR THE IMPUTATION OF THE RESOLVED_AT COLUMN, BUT FROM THE DISTRIBUTION PLOT BELOW WE COULD SEE THAT THERE ARE TWO DIFFERENT DISTRIBUION'S.**"
   ]
  },
  {
   "cell_type": "code",
   "execution_count": 49,
   "metadata": {},
   "outputs": [],
   "source": [
    "time_CA_RA = time_data[['closed_at','resolved_at']][time_data['resolved_at'].notnull()]\n",
    "time_data_CA_RA = set(zip((time_CA_RA['closed_at'] - time_CA_RA['resolved_at'])))"
   ]
  },
  {
   "cell_type": "code",
   "execution_count": 50,
   "metadata": {},
   "outputs": [],
   "source": [
    "total_2 = []\n",
    "for time in time_data_CA_RA:\n",
    "    total_2.append(time[0].seconds)"
   ]
  },
  {
   "cell_type": "code",
   "execution_count": 51,
   "metadata": {},
   "outputs": [
    {
     "data": {
      "text/plain": [
       "<matplotlib.axes._subplots.AxesSubplot at 0x1f3a1075e20>"
      ]
     },
     "execution_count": 51,
     "metadata": {},
     "output_type": "execute_result"
    },
    {
     "data": {
      "image/png": "[encoded data removed]",
      "text/plain": [
       "<Figure size 432x288 with 2 Axes>"
      ]
     },
     "metadata": {
      "needs_background": "light"
     },
     "output_type": "display_data"
    }
   ],
   "source": [
    "f, (ax_box, ax_hist) = plt.subplots(2, sharex=True, gridspec_kw={\"height_ratios\": (.15, .85)})\n",
    "sns.boxplot(total_2, ax=ax_box)\n",
    "sns.distplot(total_2, ax=ax_hist)"
   ]
  },
  {
   "cell_type": "code",
   "execution_count": 52,
   "metadata": {},
   "outputs": [],
   "source": [
    "time_OA_RA = time_data[['opened_at','resolved_at']][time_data['resolved_at'].notnull()]\n",
    "time_data_OA_RA = set(zip((time_OA_RA['resolved_at'] - time_OA_RA['opened_at'])))\n",
    "\n",
    "total_3 = []\n",
    "for time in time_data_OA_RA:\n",
    "    total_3.append(time[0].seconds)\n"
   ]
  },
  {
   "cell_type": "code",
   "execution_count": 53,
   "metadata": {},
   "outputs": [
    {
     "data": {
      "text/plain": [
       "<matplotlib.axes._subplots.AxesSubplot at 0x1f3a4deeb50>"
      ]
     },
     "execution_count": 53,
     "metadata": {},
     "output_type": "execute_result"
    },
    {
     "data": {
      "image/png": "[encoded data removed]",
      "text/plain": [
       "<Figure size 432x288 with 2 Axes>"
      ]
     },
     "metadata": {
      "needs_background": "light"
     },
     "output_type": "display_data"
    }
   ],
   "source": [
    "f, (ax_box, ax_hist) = plt.subplots(2, sharex=True, gridspec_kw={\"height_ratios\": (.15, .85)})\n",
    "sns.boxplot(total_3, ax=ax_box)\n",
    "sns.distplot(total_3, ax=ax_hist)"
   ]
  },
  {
   "cell_type": "markdown",
   "metadata": {},
   "source": [
    "* **IN THE BELOW VALUE COUNTS FOR THE VENDOR COLUMN, IN GENERAL WE WOULD BE HAVING 3 TYPES OF VENDOR, AND VENDOR-3 IS THE LAST GUY IN THE HIERARCHY, WHERE IN IF THE VENDOR- 1 AND VENDOR -2 COULDN'T FINSIH OR HELP RESOLVE THE ISSUE, IT GOES TO THE VENDOR-3 , LIKE WISE FOR VENDOR -2 IF VENDOR-1 COULDN'T SOLVE THE ISSUE, IN THESE CASES, WE HAVE TO SPEAK WITH THE CLIENT FOR INFORMATION, WE JUST CANT IMPUTE THE VALUES WITH MODE.**"
   ]
  },
  {
   "cell_type": "code",
   "execution_count": 54,
   "metadata": {},
   "outputs": [
    {
     "data": {
      "text/plain": [
       "code 8s     167\n",
       "Vendor 1     69\n",
       "Vendor 3      6\n",
       "Vendor 2      2\n",
       "Name: vendor, dtype: int64"
      ]
     },
     "execution_count": 54,
     "metadata": {},
     "output_type": "execute_result"
    }
   ],
   "source": [
    "data['vendor'].value_counts()"
   ]
  },
  {
   "cell_type": "markdown",
   "metadata": {},
   "source": [
    "* **IN THIS CASE THE RFC AND THE CAUSED_BY COLUMS ARE INTER RELATED, AS THE CAUSED_BY IS A IDENTIFIER OF THE RFC RESPONSIBLE BY THE INCIDENT.**\n",
    "\n",
    "* **THE PROBLEM_ID JUST LIKE ANY OTHER IDENTIFIER WE HAVE SUCH AS THE NUMBER OR THE CALLER_ID, SO IT ACTUALLY DOESNT MATTER MUCH TO THE MACHINE LEARNING PROBLEM.**\n",
    "\n",
    "* **THE CMDB_CI COLUMN IS THE CONFIRMATION IDENTIFIER USED TO REPORT THE INCIDENT, AS IN THE DATA DESCRIPTION IT SAYS THAT IT IS NOT NECESSARILY MANDATORY, WE CAN DISCARD THAT FOR OUR MACHINE LEARNING PROBLEM.**"
   ]
  },
  {
   "cell_type": "code",
   "execution_count": 55,
   "metadata": {},
   "outputs": [],
   "source": [
    "data.drop(['caller_id','rfc','vendor','caused_by','problem_id','cmdb_ci'],axis = 1, inplace = True)"
   ]
  },
  {
   "cell_type": "markdown",
   "metadata": {},
   "source": [
    "* **As said in the description that the priority feature is calculated with the help of impact and urgency, those features would be redundant to the machine learning problem, so we will discard them and also we have the incident_state column which gives us more information that the active column, if a incident is active or not, so we will remove that as well.**"
   ]
  },
  {
   "cell_type": "code",
   "execution_count": 56,
   "metadata": {},
   "outputs": [],
   "source": [
    "data.drop(['impact','urgency','active'],axis = 1,inplace = True)"
   ]
  },
  {
   "cell_type": "markdown",
   "metadata": {},
   "source": [
    "# CREATING NEW FEATURES(DATE AND TIME)"
   ]
  },
  {
   "cell_type": "markdown",
   "metadata": {},
   "source": [
    "* **We will create new date and time features, using the sys_created_at feature,and also the closed_at which can be useful to find out the trend in the new incident which are occuring and the rate at which the incidents are being closed.**\n",
    "* **The number of new incident has a steady graph, there is no increase or decrease in the number of new incident's.**"
   ]
  },
  {
   "cell_type": "code",
   "execution_count": 57,
   "metadata": {},
   "outputs": [
    {
     "data": {
      "image/png": "[encoded data removed]",
      "text/plain": [
       "<Figure size 3600x720 with 1 Axes>"
      ]
     },
     "metadata": {
      "needs_background": "light"
     },
     "output_type": "display_data"
    }
   ],
   "source": [
    "day = data['sys_created_at'].dt.day\n",
    "month = data['sys_created_at'].dt.month\n",
    "year = data['sys_created_at'].dt.year\n",
    "CA_time_data = pd.DataFrame({'Day':day,'Month':month,'Year':year}).drop_duplicates().reset_index().drop('index',axis = 1)\n",
    "count_list = []\n",
    "for i in range(CA_time_data.shape[0]):\n",
    "    count = data[(data['sys_created_at'].dt.day == CA_time_data.iloc[i]['Day'])\n",
    "     & (data['sys_created_at'].dt.month == CA_time_data.iloc[i]['Month']) \n",
    "     & (data['sys_created_at'].dt.year == CA_time_data.iloc[i]['Year'])].drop_duplicates('number').shape[0]\n",
    "    count_list.append(count)\n",
    "    \n",
    "CA_time_data['Count'] = count_list\n",
    "\n",
    "CA_DF = pd.DataFrame(count_list,index = data['sys_created_at'].dt.date.drop_duplicates().values,columns = ['count'])\n",
    "CA_DF.sort_index(inplace = True)\n",
    "CA_DF.plot(grid = True,figsize = (50,10))\n",
    "plt.savefig('OA')\n",
    "plt.show()"
   ]
  },
  {
   "cell_type": "markdown",
   "metadata": {},
   "source": [
    "* **We can see that there is a sudden increase the number of incidents closing and then again, the trend is similar.**"
   ]
  },
  {
   "cell_type": "code",
   "execution_count": 58,
   "metadata": {},
   "outputs": [
    {
     "data": {
      "image/png": "[encoded data removed]",
      "text/plain": [
       "<Figure size 3600x720 with 1 Axes>"
      ]
     },
     "metadata": {
      "needs_background": "light"
     },
     "output_type": "display_data"
    }
   ],
   "source": [
    "day = data['closed_at'].dt.day\n",
    "month = data['closed_at'].dt.month\n",
    "year = data['closed_at'].dt.year\n",
    "CA_time_data = pd.DataFrame({'Day':day,'Month':month,'Year':year}).drop_duplicates().reset_index().drop('index',axis = 1)\n",
    "count_list = []\n",
    "for i in range(CA_time_data.shape[0]):\n",
    "    count = data[(data['closed_at'].dt.day == CA_time_data.iloc[i]['Day'])\n",
    "     & (data['closed_at'].dt.month == CA_time_data.iloc[i]['Month']) \n",
    "     & (data['closed_at'].dt.year == CA_time_data.iloc[i]['Year'])].drop_duplicates('number').shape[0]\n",
    "    count_list.append(count)\n",
    "    \n",
    "CA_time_data['Count'] = count_list\n",
    "\n",
    "CA_DF = pd.DataFrame(count_list,index = data['closed_at'].dt.date.drop_duplicates().values,columns = ['count'])\n",
    "CA_DF.sort_index(inplace = True)\n",
    "CA_DF.plot(grid = True,figsize = (50,10))\n",
    "plt.savefig('CA')\n",
    "plt.show()"
   ]
  },
  {
   "cell_type": "markdown",
   "metadata": {},
   "source": [
    "* **As most of the incidents are being closed by code 6 , we have to look at what does closed code 6 means.**\n",
    "* **We can also try and understand what do the other close code mean.**"
   ]
  },
  {
   "cell_type": "markdown",
   "metadata": {},
   "source": [
    "* **made_sla is called as the service level agreement, in simpler terms it means whether the incident raised has been resolved in the given time or not, as we can see that most of the values are True which means that they have satisifed the customer with the solution, but also there are high False where the priority is moderate, which makes sense as it is easier to recognize the easily solvable incidents and the hard incidents, the point is to find out whether an incident raise in moderate, which might take some time, as we do not understand if it is easy or hard.**"
   ]
  },
  {
   "cell_type": "markdown",
   "metadata": {},
   "source": [
    "# Important Featuress For The Machine Learning Problem:"
   ]
  },
  {
   "cell_type": "markdown",
   "metadata": {},
   "source": [
    "* We have 34 features excluding the sys_created_at and the closed_at features, we will go with the regression problem here, we will try and find out how much time does it take for an incident to be finished once it gets created.\n",
    "* Out of the 34 features we have we will discard some features such as caller_id,rfc,vendor,caused_by,problem_id,cmdb_ci we are removing these features as more than 95% of the data is NULL and we will also remove impact,urgency,active we dont need active as a feature as we already have incident_state as one of the feature which can be used instead of the active feature and also it has more information than the active feature, and we are removing the impact and urgency feature as we have a feature called priority which is made using these two features, so these features will be REDUNDANT.\n",
    "* So of the remaining , the features which we can use for the machine learning model are:\n",
    "    * Incident_state : Because we need to understand at which part is the ticket right now, it can be new so the time will be different when we compare it with a different incident_state.\n",
    "    * We need all the integer variables which are reassignment_count, reopen_count,sys_mod_count which represent how many times the incident was reassigned , reopened and the number of times the analyst has been changed for the given incidnet.\n",
    "    * We need the made_sla feature, as it is quite important to understand if the service level agreement is intact or breached.\n",
    "    * We need all the information about who opened an incident, who is updating the incident and also who is closing the incident, so we will take the opened_by, created_by and updated_by features.\n",
    "    * We also need the location, category and the sub-category as the service might be different in different locations and the service quality might be different in different categories and sub_categories.\n",
    "    * We need the priority of the incident as it helps us understand , how fast or how slow can we resolve an incident.\n",
    "    * We also need the assignment_group and the the person this incident has been assigned_to as the service might change person to person.\n",
    "    * We also require the knowledge as a feature which makes us understand the complexity of the incident,if the incident is too complex then we need more knowledge about how to resolve the issue.\n",
    "    * We need the resolved_by feature, just to know how good a service person can resolve the issue.\n",
    "    * We are not looking at the closed_code feature, as it is a futuristic feature, which only comes after the incident has been closed.\n",
    "    * We are also not considering the assignment_group, assigned_to,opened_by,created_by and updated_by features, as they are more like identifier's for the person who was involved in resolving the issue.\n",
    "    * **So, at last the features which we will be using for the machine learning problem are:**\n",
    "        * Incident_state\n",
    "        * reassignment_count\n",
    "        * reopen_count\n",
    "        * sys_mod_count\n",
    "        * made_sla\n",
    "        * location\n",
    "        * category\n",
    "        * sub_category\n",
    "        * Priority\n",
    "        * knowledge\n",
    "        * Time difference between the opened_at and resolved_at (which will be our dependent variable)"
   ]
  },
  {
   "cell_type": "code",
   "execution_count": 70,
   "metadata": {},
   "outputs": [],
   "source": [
    "final_df = data[['incident_state','reassignment_count','reopen_count','sys_mod_count','priority','made_sla','location','category','subcategory','opened_at','closed_at']]"
   ]
  },
  {
   "cell_type": "markdown",
   "metadata": {},
   "source": [
    "* **We are taking the time differenc between the opened_at and closed_at features, keeping the time delta in terms of hours and changing it, in terms of days. We will be using this as our dependent feature.**"
   ]
  },
  {
   "cell_type": "code",
   "execution_count": 115,
   "metadata": {},
   "outputs": [],
   "source": [
    "no_days = final_df['closed_at'] - final_df['opened_at']\n",
    "time_taken_to_resolve = np.ceil(no_days.astype('timedelta64[h]')/24)\n",
    "final_df['TIME'] = time_taken_to_resolve\n",
    "final_df.drop(['opened_at','closed_at'],axis = 1,inplace = True)"
   ]
  },
  {
   "cell_type": "code",
   "execution_count": 116,
   "metadata": {},
   "outputs": [
    {
     "data": {
      "text/html": [
       "<div>\n",
       "<style scoped>\n",
       "    .dataframe tbody tr th:only-of-type {\n",
       "        vertical-align: middle;\n",
       "    }\n",
       "\n",
       "    .dataframe tbody tr th {\n",
       "        vertical-align: top;\n",
       "    }\n",
       "\n",
       "    .dataframe thead th {\n",
       "        text-align: right;\n",
       "    }\n",
       "</style>\n",
       "<table border=\"1\" class=\"dataframe\">\n",
       "  <thead>\n",
       "    <tr style=\"text-align: right;\">\n",
       "      <th></th>\n",
       "      <th>incident_state</th>\n",
       "      <th>reassignment_count</th>\n",
       "      <th>reopen_count</th>\n",
       "      <th>sys_mod_count</th>\n",
       "      <th>priority</th>\n",
       "      <th>made_sla</th>\n",
       "      <th>location</th>\n",
       "      <th>category</th>\n",
       "      <th>subcategory</th>\n",
       "      <th>TIME</th>\n",
       "    </tr>\n",
       "  </thead>\n",
       "  <tbody>\n",
       "    <tr>\n",
       "      <th>0</th>\n",
       "      <td>New</td>\n",
       "      <td>0</td>\n",
       "      <td>0</td>\n",
       "      <td>0</td>\n",
       "      <td>Moderate</td>\n",
       "      <td>True</td>\n",
       "      <td>143</td>\n",
       "      <td>55</td>\n",
       "      <td>170</td>\n",
       "      <td>6.0</td>\n",
       "    </tr>\n",
       "    <tr>\n",
       "      <th>1</th>\n",
       "      <td>Resolved</td>\n",
       "      <td>0</td>\n",
       "      <td>0</td>\n",
       "      <td>2</td>\n",
       "      <td>Moderate</td>\n",
       "      <td>True</td>\n",
       "      <td>143</td>\n",
       "      <td>55</td>\n",
       "      <td>170</td>\n",
       "      <td>6.0</td>\n",
       "    </tr>\n",
       "    <tr>\n",
       "      <th>2</th>\n",
       "      <td>Resolved</td>\n",
       "      <td>0</td>\n",
       "      <td>0</td>\n",
       "      <td>3</td>\n",
       "      <td>Moderate</td>\n",
       "      <td>True</td>\n",
       "      <td>143</td>\n",
       "      <td>55</td>\n",
       "      <td>170</td>\n",
       "      <td>6.0</td>\n",
       "    </tr>\n",
       "    <tr>\n",
       "      <th>3</th>\n",
       "      <td>Closed</td>\n",
       "      <td>0</td>\n",
       "      <td>0</td>\n",
       "      <td>4</td>\n",
       "      <td>Moderate</td>\n",
       "      <td>True</td>\n",
       "      <td>143</td>\n",
       "      <td>55</td>\n",
       "      <td>170</td>\n",
       "      <td>6.0</td>\n",
       "    </tr>\n",
       "    <tr>\n",
       "      <th>4</th>\n",
       "      <td>New</td>\n",
       "      <td>0</td>\n",
       "      <td>0</td>\n",
       "      <td>0</td>\n",
       "      <td>Moderate</td>\n",
       "      <td>True</td>\n",
       "      <td>165</td>\n",
       "      <td>40</td>\n",
       "      <td>215</td>\n",
       "      <td>7.0</td>\n",
       "    </tr>\n",
       "  </tbody>\n",
       "</table>\n",
       "</div>"
      ],
      "text/plain": [
       "  incident_state  reassignment_count  reopen_count  sys_mod_count  priority  \\\n",
       "0            New                   0             0              0  Moderate   \n",
       "1       Resolved                   0             0              2  Moderate   \n",
       "2       Resolved                   0             0              3  Moderate   \n",
       "3         Closed                   0             0              4  Moderate   \n",
       "4            New                   0             0              0  Moderate   \n",
       "\n",
       "   made_sla location category subcategory  TIME  \n",
       "0      True      143       55         170   6.0  \n",
       "1      True      143       55         170   6.0  \n",
       "2      True      143       55         170   6.0  \n",
       "3      True      143       55         170   6.0  \n",
       "4      True      165       40         215   7.0  "
      ]
     },
     "execution_count": 116,
     "metadata": {},
     "output_type": "execute_result"
    }
   ],
   "source": [
    "final_df.head()"
   ]
  },
  {
   "cell_type": "markdown",
   "metadata": {},
   "source": [
    "* **As it could be obvious that the number of active cases would be more when compared to the closed or resolved cases.**"
   ]
  },
  {
   "cell_type": "code",
   "execution_count": 85,
   "metadata": {},
   "outputs": [
    {
     "data": {
      "image/png": "[encoded data removed]",
      "text/plain": [
       "<Figure size 432x288 with 1 Axes>"
      ]
     },
     "metadata": {
      "needs_background": "light"
     },
     "output_type": "display_data"
    }
   ],
   "source": [
    "sns.countplot(final_df['incident_state'],order = final_df['incident_state'].value_counts().index)\n",
    "plt.xticks(rotation = 90)\n",
    "plt.show()"
   ]
  },
  {
   "cell_type": "code",
   "execution_count": 92,
   "metadata": {},
   "outputs": [
    {
     "data": {
      "image/png": "[encoded data removed]",
      "text/plain": [
       "<Figure size 432x288 with 1 Axes>"
      ]
     },
     "metadata": {
      "needs_background": "light"
     },
     "output_type": "display_data"
    }
   ],
   "source": [
    "sns.countplot(x = 'priority',data = final_df,hue = 'made_sla',order = final_df['priority'].value_counts().index)\n",
    "plt.xticks(rotation = 90)\n",
    "plt.show()"
   ]
  },
  {
   "cell_type": "code",
   "execution_count": 129,
   "metadata": {},
   "outputs": [
    {
     "data": {
      "text/html": [
       "<div>\n",
       "<style scoped>\n",
       "    .dataframe tbody tr th:only-of-type {\n",
       "        vertical-align: middle;\n",
       "    }\n",
       "\n",
       "    .dataframe tbody tr th {\n",
       "        vertical-align: top;\n",
       "    }\n",
       "\n",
       "    .dataframe thead th {\n",
       "        text-align: right;\n",
       "    }\n",
       "</style>\n",
       "<table border=\"1\" class=\"dataframe\">\n",
       "  <thead>\n",
       "    <tr style=\"text-align: right;\">\n",
       "      <th>priority</th>\n",
       "      <th>Critical</th>\n",
       "      <th>High</th>\n",
       "      <th>Low</th>\n",
       "      <th>Moderate</th>\n",
       "    </tr>\n",
       "    <tr>\n",
       "      <th>made_sla</th>\n",
       "      <th></th>\n",
       "      <th></th>\n",
       "      <th></th>\n",
       "      <th></th>\n",
       "    </tr>\n",
       "  </thead>\n",
       "  <tbody>\n",
       "    <tr>\n",
       "      <th>False</th>\n",
       "      <td>0.11736</td>\n",
       "      <td>0.136608</td>\n",
       "      <td>0.031017</td>\n",
       "      <td>0.063563</td>\n",
       "    </tr>\n",
       "    <tr>\n",
       "      <th>True</th>\n",
       "      <td>0.88264</td>\n",
       "      <td>0.863392</td>\n",
       "      <td>0.968983</td>\n",
       "      <td>0.936437</td>\n",
       "    </tr>\n",
       "  </tbody>\n",
       "</table>\n",
       "</div>"
      ],
      "text/plain": [
       "priority  Critical      High       Low  Moderate\n",
       "made_sla                                        \n",
       "False      0.11736  0.136608  0.031017  0.063563\n",
       "True       0.88264  0.863392  0.968983  0.936437"
      ]
     },
     "execution_count": 129,
     "metadata": {},
     "output_type": "execute_result"
    }
   ],
   "source": [
    "pd.crosstab(data['made_sla'],data['priority'],normalize = 'columns')"
   ]
  },
  {
   "cell_type": "markdown",
   "metadata": {},
   "source": [
    "* **If we look at the correlation plot between the numerical features in the data set including the dependent variable, we see a good co relation between the sys_mod_count and time and a little corelation between the time and the reassignment_count features, which means these are definitely important during our machine learning process.**"
   ]
  },
  {
   "cell_type": "code",
   "execution_count": 120,
   "metadata": {},
   "outputs": [
    {
     "data": {
      "image/png": "[encoded data removed]",
      "text/plain": [
       "<Figure size 432x288 with 2 Axes>"
      ]
     },
     "metadata": {
      "needs_background": "light"
     },
     "output_type": "display_data"
    }
   ],
   "source": [
    "sns.heatmap(final_df[['reassignment_count','sys_mod_count','reopen_count','TIME']].corr(),annot = True)\n",
    "plt.show()"
   ]
  },
  {
   "cell_type": "code",
   "execution_count": 122,
   "metadata": {},
   "outputs": [
    {
     "data": {
      "image/png": "[encoded data removed]",
      "text/plain": [
       "<Figure size 432x288 with 1 Axes>"
      ]
     },
     "metadata": {
      "needs_background": "light"
     },
     "output_type": "display_data"
    }
   ],
   "source": [
    "sns.boxplot(x = 'incident_state', y = 'TIME',data = final_df)\n",
    "plt.xticks(rotation = 90)\n",
    "plt.show()"
   ]
  },
  {
   "cell_type": "code",
   "execution_count": 123,
   "metadata": {},
   "outputs": [
    {
     "data": {
      "image/png": "[encoded data removed]",
      "text/plain": [
       "<Figure size 432x288 with 1 Axes>"
      ]
     },
     "metadata": {
      "needs_background": "light"
     },
     "output_type": "display_data"
    }
   ],
   "source": [
    "sns.boxplot(x = 'incident_state', y = 'reassignment_count',data = final_df)\n",
    "plt.xticks(rotation = 90)\n",
    "plt.show()"
   ]
  },
  {
   "cell_type": "code",
   "execution_count": 125,
   "metadata": {},
   "outputs": [
    {
     "data": {
      "image/png": "[encoded data removed]",
      "text/plain": [
       "<Figure size 432x288 with 1 Axes>"
      ]
     },
     "metadata": {
      "needs_background": "light"
     },
     "output_type": "display_data"
    }
   ],
   "source": [
    "sns.boxplot(x = 'made_sla', y = 'TIME',data = final_df)\n",
    "plt.xticks(rotation = 90)\n",
    "plt.show()"
   ]
  },
  {
   "cell_type": "markdown",
   "metadata": {},
   "source": [
    "* **Looking at all the different box plots we were able to plot, it is obvious that there are alot of extreme values in every feature, and we actually cant ignore or remove these extreme values as there are the cases/incidents which we need to look at more and find out the insights as to why did these incidents take more time or something like that.**"
   ]
  },
  {
   "cell_type": "code",
   "execution_count": 127,
   "metadata": {},
   "outputs": [
    {
     "data": {
      "image/png": "[encoded data removed]",
      "text/plain": [
       "<Figure size 432x288 with 1 Axes>"
      ]
     },
     "metadata": {
      "needs_background": "light"
     },
     "output_type": "display_data"
    }
   ],
   "source": [
    "sns.countplot(final_df['made_sla'])\n",
    "plt.show()"
   ]
  },
  {
   "cell_type": "code",
   "execution_count": null,
   "metadata": {},
   "outputs": [],
   "source": []
  }
 ],
 "metadata": {
  "kernelspec": {
   "display_name": "Python 3",
   "language": "python",
   "name": "python3"
  },
  "language_info": {
   "codemirror_mode": {
    "name": "ipython",
    "version": 3
   },
   "file_extension": ".py",
   "mimetype": "text/x-python",
   "name": "python",
   "nbconvert_exporter": "python",
   "pygments_lexer": "ipython3",
   "version": "3.8.5"
  }
 },
 "nbformat": 4,
 "nbformat_minor": 4
}
